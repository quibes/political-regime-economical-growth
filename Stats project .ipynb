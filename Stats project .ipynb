{
 "cells": [
  {
   "cell_type": "markdown",
   "id": "e6fb4db5",
   "metadata": {},
   "source": [
    "# Can political regimes correlate differently with the economic growth of the country? \n",
    "Anastasya Russu "
   ]
  },
  {
   "cell_type": "markdown",
   "id": "f33bcfac",
   "metadata": {},
   "source": [
    "Economists do not have a consensus on that matter. Opponents of the theory say that for development, primary \n",
    "stability is needed, and democracy institutions are too breakable. For example, the fast economic growth of China, Japan \n",
    "and other Asian countries are explained by that. Democratic leaders can sacrifice the interest of economic growth to \n",
    "satisfy  the  needs  of  low-income  groups,  while  autocratic  regimes  can  maintain  unpopular  economic  policies.  To \n",
    "conclude, developing countries simply cannot afford such good democracy to develop. \n",
    "\n",
    "Supporters of that theory insist that autocratic regimes are too dependent on the personality of the country leader. \n",
    "The ways they try to keep power makes them inefficient and they lack the information necessary for the decision-making \n",
    "process, which leads to worse management. What makes democracy better regime for economic growth, it is protection \n",
    "of human life (i.e. human capital, which is necessary for economic growth). "
   ]
  },
  {
   "cell_type": "code",
   "execution_count": 3,
   "id": "9bd9fdce",
   "metadata": {},
   "outputs": [],
   "source": [
    "import pandas as pd\n",
    "import numpy as np\n",
    "import matplotlib.pyplot as plt\n",
    "from scipy import stats\n",
    "from scipy.stats import shapiro\n",
    "import statsmodels.api as sm\n",
    "import seaborn as sns\n",
    "from statsmodels.stats.outliers_influence import variance_inflation_factor\n",
    "from itertools import combinations"
   ]
  },
  {
   "cell_type": "markdown",
   "id": "c91ebf92",
   "metadata": {},
   "source": [
    "Preparing data for analysis"
   ]
  },
  {
   "cell_type": "code",
   "execution_count": 4,
   "id": "bdc66806",
   "metadata": {},
   "outputs": [
    {
     "name": "stderr",
     "output_type": "stream",
     "text": [
      "C:\\Users\\russu_anastasiia\\AppData\\Local\\Temp\\ipykernel_11024\\4213008117.py:3: DtypeWarning: Columns (364,365,366,394,410,821,831,832,930,1235,1252,1481,3063,3282,3283,3338,3340,3344,3345,3347,3348,3349) have mixed types. Specify dtype option on import or set low_memory=False.\n",
      "  df_dem = pd.read_csv(filename)\n"
     ]
    },
    {
     "data": {
      "text/html": [
       "<div>\n",
       "<style scoped>\n",
       "    .dataframe tbody tr th:only-of-type {\n",
       "        vertical-align: middle;\n",
       "    }\n",
       "\n",
       "    .dataframe tbody tr th {\n",
       "        vertical-align: top;\n",
       "    }\n",
       "\n",
       "    .dataframe thead th {\n",
       "        text-align: right;\n",
       "    }\n",
       "</style>\n",
       "<table border=\"1\" class=\"dataframe\">\n",
       "  <thead>\n",
       "    <tr style=\"text-align: right;\">\n",
       "      <th></th>\n",
       "      <th>country_name</th>\n",
       "      <th>country_text_id</th>\n",
       "      <th>country_id</th>\n",
       "      <th>year</th>\n",
       "      <th>historical_date</th>\n",
       "      <th>project</th>\n",
       "      <th>historical</th>\n",
       "      <th>histname</th>\n",
       "      <th>codingstart</th>\n",
       "      <th>codingend</th>\n",
       "      <th>...</th>\n",
       "      <th>e_miurbpop</th>\n",
       "      <th>e_pefeliex</th>\n",
       "      <th>e_peinfmor</th>\n",
       "      <th>e_pelifeex</th>\n",
       "      <th>e_pematmor</th>\n",
       "      <th>e_wb_pop</th>\n",
       "      <th>e_civil_war</th>\n",
       "      <th>e_miinteco</th>\n",
       "      <th>e_miinterc</th>\n",
       "      <th>e_pt_coup</th>\n",
       "    </tr>\n",
       "  </thead>\n",
       "  <tbody>\n",
       "    <tr>\n",
       "      <th>0</th>\n",
       "      <td>Mexico</td>\n",
       "      <td>MEX</td>\n",
       "      <td>3</td>\n",
       "      <td>1789</td>\n",
       "      <td>1789-12-31</td>\n",
       "      <td>1</td>\n",
       "      <td>1</td>\n",
       "      <td>Viceroyalty of New Spain</td>\n",
       "      <td>1789</td>\n",
       "      <td>2021</td>\n",
       "      <td>...</td>\n",
       "      <td>NaN</td>\n",
       "      <td>NaN</td>\n",
       "      <td>NaN</td>\n",
       "      <td>NaN</td>\n",
       "      <td>NaN</td>\n",
       "      <td>NaN</td>\n",
       "      <td>NaN</td>\n",
       "      <td>0.0</td>\n",
       "      <td>0.0</td>\n",
       "      <td>NaN</td>\n",
       "    </tr>\n",
       "    <tr>\n",
       "      <th>1</th>\n",
       "      <td>Mexico</td>\n",
       "      <td>MEX</td>\n",
       "      <td>3</td>\n",
       "      <td>1790</td>\n",
       "      <td>1790-12-31</td>\n",
       "      <td>1</td>\n",
       "      <td>1</td>\n",
       "      <td>Viceroyalty of New Spain</td>\n",
       "      <td>1789</td>\n",
       "      <td>2021</td>\n",
       "      <td>...</td>\n",
       "      <td>NaN</td>\n",
       "      <td>NaN</td>\n",
       "      <td>NaN</td>\n",
       "      <td>NaN</td>\n",
       "      <td>NaN</td>\n",
       "      <td>NaN</td>\n",
       "      <td>NaN</td>\n",
       "      <td>0.0</td>\n",
       "      <td>0.0</td>\n",
       "      <td>NaN</td>\n",
       "    </tr>\n",
       "    <tr>\n",
       "      <th>2</th>\n",
       "      <td>Mexico</td>\n",
       "      <td>MEX</td>\n",
       "      <td>3</td>\n",
       "      <td>1791</td>\n",
       "      <td>1791-12-31</td>\n",
       "      <td>1</td>\n",
       "      <td>1</td>\n",
       "      <td>Viceroyalty of New Spain</td>\n",
       "      <td>1789</td>\n",
       "      <td>2021</td>\n",
       "      <td>...</td>\n",
       "      <td>NaN</td>\n",
       "      <td>NaN</td>\n",
       "      <td>NaN</td>\n",
       "      <td>NaN</td>\n",
       "      <td>NaN</td>\n",
       "      <td>NaN</td>\n",
       "      <td>NaN</td>\n",
       "      <td>0.0</td>\n",
       "      <td>0.0</td>\n",
       "      <td>NaN</td>\n",
       "    </tr>\n",
       "    <tr>\n",
       "      <th>3</th>\n",
       "      <td>Mexico</td>\n",
       "      <td>MEX</td>\n",
       "      <td>3</td>\n",
       "      <td>1792</td>\n",
       "      <td>1792-12-31</td>\n",
       "      <td>1</td>\n",
       "      <td>1</td>\n",
       "      <td>Viceroyalty of New Spain</td>\n",
       "      <td>1789</td>\n",
       "      <td>2021</td>\n",
       "      <td>...</td>\n",
       "      <td>NaN</td>\n",
       "      <td>NaN</td>\n",
       "      <td>NaN</td>\n",
       "      <td>NaN</td>\n",
       "      <td>NaN</td>\n",
       "      <td>NaN</td>\n",
       "      <td>NaN</td>\n",
       "      <td>0.0</td>\n",
       "      <td>0.0</td>\n",
       "      <td>NaN</td>\n",
       "    </tr>\n",
       "    <tr>\n",
       "      <th>4</th>\n",
       "      <td>Mexico</td>\n",
       "      <td>MEX</td>\n",
       "      <td>3</td>\n",
       "      <td>1793</td>\n",
       "      <td>1793-12-31</td>\n",
       "      <td>1</td>\n",
       "      <td>1</td>\n",
       "      <td>Viceroyalty of New Spain</td>\n",
       "      <td>1789</td>\n",
       "      <td>2021</td>\n",
       "      <td>...</td>\n",
       "      <td>NaN</td>\n",
       "      <td>NaN</td>\n",
       "      <td>NaN</td>\n",
       "      <td>NaN</td>\n",
       "      <td>NaN</td>\n",
       "      <td>NaN</td>\n",
       "      <td>NaN</td>\n",
       "      <td>0.0</td>\n",
       "      <td>0.0</td>\n",
       "      <td>NaN</td>\n",
       "    </tr>\n",
       "  </tbody>\n",
       "</table>\n",
       "<p>5 rows × 4170 columns</p>\n",
       "</div>"
      ],
      "text/plain": [
       "  country_name country_text_id  country_id  year historical_date  project  \\\n",
       "0       Mexico             MEX           3  1789      1789-12-31        1   \n",
       "1       Mexico             MEX           3  1790      1790-12-31        1   \n",
       "2       Mexico             MEX           3  1791      1791-12-31        1   \n",
       "3       Mexico             MEX           3  1792      1792-12-31        1   \n",
       "4       Mexico             MEX           3  1793      1793-12-31        1   \n",
       "\n",
       "   historical                  histname  codingstart  codingend  ...  \\\n",
       "0           1  Viceroyalty of New Spain         1789       2021  ...   \n",
       "1           1  Viceroyalty of New Spain         1789       2021  ...   \n",
       "2           1  Viceroyalty of New Spain         1789       2021  ...   \n",
       "3           1  Viceroyalty of New Spain         1789       2021  ...   \n",
       "4           1  Viceroyalty of New Spain         1789       2021  ...   \n",
       "\n",
       "   e_miurbpop  e_pefeliex  e_peinfmor  e_pelifeex  e_pematmor  e_wb_pop  \\\n",
       "0         NaN         NaN         NaN         NaN         NaN       NaN   \n",
       "1         NaN         NaN         NaN         NaN         NaN       NaN   \n",
       "2         NaN         NaN         NaN         NaN         NaN       NaN   \n",
       "3         NaN         NaN         NaN         NaN         NaN       NaN   \n",
       "4         NaN         NaN         NaN         NaN         NaN       NaN   \n",
       "\n",
       "   e_civil_war  e_miinteco  e_miinterc  e_pt_coup  \n",
       "0          NaN         0.0         0.0        NaN  \n",
       "1          NaN         0.0         0.0        NaN  \n",
       "2          NaN         0.0         0.0        NaN  \n",
       "3          NaN         0.0         0.0        NaN  \n",
       "4          NaN         0.0         0.0        NaN  \n",
       "\n",
       "[5 rows x 4170 columns]"
      ]
     },
     "execution_count": 4,
     "metadata": {},
     "output_type": "execute_result"
    }
   ],
   "source": [
    "#import V - DEM dataset\n",
    "filename='democracy data.csv'\n",
    "df_dem = pd.read_csv(filename)\n",
    "df_dem.head()"
   ]
  },
  {
   "cell_type": "code",
   "execution_count": 5,
   "id": "338e4bd3",
   "metadata": {},
   "outputs": [
    {
     "data": {
      "text/html": [
       "<div>\n",
       "<style scoped>\n",
       "    .dataframe tbody tr th:only-of-type {\n",
       "        vertical-align: middle;\n",
       "    }\n",
       "\n",
       "    .dataframe tbody tr th {\n",
       "        vertical-align: top;\n",
       "    }\n",
       "\n",
       "    .dataframe thead th {\n",
       "        text-align: right;\n",
       "    }\n",
       "</style>\n",
       "<table border=\"1\" class=\"dataframe\">\n",
       "  <thead>\n",
       "    <tr style=\"text-align: right;\">\n",
       "      <th></th>\n",
       "      <th>Series Name</th>\n",
       "      <th>Series Code</th>\n",
       "      <th>Country Name</th>\n",
       "      <th>Country Code</th>\n",
       "      <th>1990 [YR1990]</th>\n",
       "      <th>2000 [YR2000]</th>\n",
       "      <th>2012 [YR2012]</th>\n",
       "      <th>2013 [YR2013]</th>\n",
       "      <th>2014 [YR2014]</th>\n",
       "      <th>2015 [YR2015]</th>\n",
       "      <th>2016 [YR2016]</th>\n",
       "      <th>2017 [YR2017]</th>\n",
       "      <th>2018 [YR2018]</th>\n",
       "      <th>2019 [YR2019]</th>\n",
       "      <th>2020 [YR2020]</th>\n",
       "      <th>2021 [YR2021]</th>\n",
       "    </tr>\n",
       "  </thead>\n",
       "  <tbody>\n",
       "    <tr>\n",
       "      <th>1</th>\n",
       "      <td>GDP per capita growth (annual %)</td>\n",
       "      <td>NY.GDP.PCAP.KD.ZG</td>\n",
       "      <td>Albania</td>\n",
       "      <td>ALB</td>\n",
       "      <td>-11.187905298961</td>\n",
       "      <td>7.63002243937019</td>\n",
       "      <td>1.58487281451019</td>\n",
       "      <td>1.18723435286199</td>\n",
       "      <td>1.98538809180384</td>\n",
       "      <td>2.51682705417127</td>\n",
       "      <td>3.48029321671386</td>\n",
       "      <td>3.89774060601475</td>\n",
       "      <td>4.27632565399514</td>\n",
       "      <td>2.52389372255597</td>\n",
       "      <td>-2.92582095677083</td>\n",
       "      <td>9.5548753337865</td>\n",
       "    </tr>\n",
       "    <tr>\n",
       "      <th>2</th>\n",
       "      <td>GDP per capita growth (annual %)</td>\n",
       "      <td>NY.GDP.PCAP.KD.ZG</td>\n",
       "      <td>Algeria</td>\n",
       "      <td>DZA</td>\n",
       "      <td>-1.75407649193988</td>\n",
       "      <td>2.39949654373312</td>\n",
       "      <td>1.4017475601154</td>\n",
       "      <td>0.761699380455809</td>\n",
       "      <td>1.71045490361574</td>\n",
       "      <td>1.60049369648927</td>\n",
       "      <td>1.10457015569865</td>\n",
       "      <td>-0.750456691967514</td>\n",
       "      <td>-0.909245790879453</td>\n",
       "      <td>-0.934555885298352</td>\n",
       "      <td>-6.82696362311546</td>\n",
       "      <td>2.0658545045749</td>\n",
       "    </tr>\n",
       "    <tr>\n",
       "      <th>4</th>\n",
       "      <td>GDP per capita growth (annual %)</td>\n",
       "      <td>NY.GDP.PCAP.KD.ZG</td>\n",
       "      <td>Andorra</td>\n",
       "      <td>AND</td>\n",
       "      <td>-0.133166844392832</td>\n",
       "      <td>1.91028641179476</td>\n",
       "      <td>-3.45153545003302</td>\n",
       "      <td>-1.5688713381525</td>\n",
       "      <td>4.51927941301172</td>\n",
       "      <td>3.02081678005885</td>\n",
       "      <td>4.64621154922207</td>\n",
       "      <td>0.734439351000333</td>\n",
       "      <td>1.57425431733354</td>\n",
       "      <td>1.83306059347608</td>\n",
       "      <td>-11.3207303470788</td>\n",
       "      <td>8.82406572722756</td>\n",
       "    </tr>\n",
       "    <tr>\n",
       "      <th>5</th>\n",
       "      <td>GDP per capita growth (annual %)</td>\n",
       "      <td>NY.GDP.PCAP.KD.ZG</td>\n",
       "      <td>Angola</td>\n",
       "      <td>AGO</td>\n",
       "      <td>-6.65746725949467</td>\n",
       "      <td>-0.267956297993877</td>\n",
       "      <td>4.70440852719756</td>\n",
       "      <td>1.28760778892259</td>\n",
       "      <td>1.21734336059794</td>\n",
       "      <td>-2.47218813531357</td>\n",
       "      <td>-5.81613955070978</td>\n",
       "      <td>-3.41267936474142</td>\n",
       "      <td>-4.49694682670683</td>\n",
       "      <td>-3.86855912437153</td>\n",
       "      <td>-8.49308612116926</td>\n",
       "      <td>-2.46740354976019</td>\n",
       "    </tr>\n",
       "    <tr>\n",
       "      <th>6</th>\n",
       "      <td>GDP per capita growth (annual %)</td>\n",
       "      <td>NY.GDP.PCAP.KD.ZG</td>\n",
       "      <td>Antigua and Barbuda</td>\n",
       "      <td>ATG</td>\n",
       "      <td>2.14522559903865</td>\n",
       "      <td>4.34085051945499</td>\n",
       "      <td>2.04993317307776</td>\n",
       "      <td>-1.79896658725413</td>\n",
       "      <td>2.61605230937501</td>\n",
       "      <td>2.70571843639473</td>\n",
       "      <td>4.43725332350857</td>\n",
       "      <td>2.16611404366698</td>\n",
       "      <td>5.93227628165489</td>\n",
       "      <td>3.96278455965997</td>\n",
       "      <td>-20.8549349330109</td>\n",
       "      <td>4.41783167040477</td>\n",
       "    </tr>\n",
       "    <tr>\n",
       "      <th>...</th>\n",
       "      <td>...</td>\n",
       "      <td>...</td>\n",
       "      <td>...</td>\n",
       "      <td>...</td>\n",
       "      <td>...</td>\n",
       "      <td>...</td>\n",
       "      <td>...</td>\n",
       "      <td>...</td>\n",
       "      <td>...</td>\n",
       "      <td>...</td>\n",
       "      <td>...</td>\n",
       "      <td>...</td>\n",
       "      <td>...</td>\n",
       "      <td>...</td>\n",
       "      <td>...</td>\n",
       "      <td>...</td>\n",
       "    </tr>\n",
       "    <tr>\n",
       "      <th>261</th>\n",
       "      <td>GDP per capita growth (annual %)</td>\n",
       "      <td>NY.GDP.PCAP.KD.ZG</td>\n",
       "      <td>Sub-Saharan Africa</td>\n",
       "      <td>SSF</td>\n",
       "      <td>-0.372505054753276</td>\n",
       "      <td>0.828496541216268</td>\n",
       "      <td>-0.00852483609943988</td>\n",
       "      <td>2.22618121146745</td>\n",
       "      <td>2.04890773900517</td>\n",
       "      <td>0.121086152671438</td>\n",
       "      <td>-1.40744813489808</td>\n",
       "      <td>-0.245488103769503</td>\n",
       "      <td>0.0119103778418008</td>\n",
       "      <td>-0.101357905489493</td>\n",
       "      <td>-4.50145600008616</td>\n",
       "      <td>1.48986983145831</td>\n",
       "    </tr>\n",
       "    <tr>\n",
       "      <th>262</th>\n",
       "      <td>GDP per capita growth (annual %)</td>\n",
       "      <td>NY.GDP.PCAP.KD.ZG</td>\n",
       "      <td>Sub-Saharan Africa (excluding high income)</td>\n",
       "      <td>SSA</td>\n",
       "      <td>-0.37671381462836</td>\n",
       "      <td>0.830501196360942</td>\n",
       "      <td>-0.00748983087372324</td>\n",
       "      <td>2.22532322338851</td>\n",
       "      <td>2.04907485218757</td>\n",
       "      <td>0.118827601125531</td>\n",
       "      <td>-1.4109119169289</td>\n",
       "      <td>-0.247376132733081</td>\n",
       "      <td>0.0113178582366231</td>\n",
       "      <td>-0.101980038319653</td>\n",
       "      <td>-4.49656558090025</td>\n",
       "      <td>1.4915979097093</td>\n",
       "    </tr>\n",
       "    <tr>\n",
       "      <th>263</th>\n",
       "      <td>GDP per capita growth (annual %)</td>\n",
       "      <td>NY.GDP.PCAP.KD.ZG</td>\n",
       "      <td>Sub-Saharan Africa (IDA &amp; IBRD countries)</td>\n",
       "      <td>TSS</td>\n",
       "      <td>-0.372505054753319</td>\n",
       "      <td>0.828496541216268</td>\n",
       "      <td>-0.00852483609943988</td>\n",
       "      <td>2.22618121146741</td>\n",
       "      <td>2.04890773900522</td>\n",
       "      <td>0.121086152671438</td>\n",
       "      <td>-1.40744813489808</td>\n",
       "      <td>-0.24548810376956</td>\n",
       "      <td>0.0119103778418008</td>\n",
       "      <td>-0.101357905489451</td>\n",
       "      <td>-4.50145600008615</td>\n",
       "      <td>1.48986983145826</td>\n",
       "    </tr>\n",
       "    <tr>\n",
       "      <th>264</th>\n",
       "      <td>GDP per capita growth (annual %)</td>\n",
       "      <td>NY.GDP.PCAP.KD.ZG</td>\n",
       "      <td>Upper middle income</td>\n",
       "      <td>UMC</td>\n",
       "      <td>-0.430964342795761</td>\n",
       "      <td>5.49423928019148</td>\n",
       "      <td>5.04110714371335</td>\n",
       "      <td>4.69869483798068</td>\n",
       "      <td>3.87564876595366</td>\n",
       "      <td>3.49937625985066</td>\n",
       "      <td>3.43874231613397</td>\n",
       "      <td>4.42542148919378</td>\n",
       "      <td>4.24274530526209</td>\n",
       "      <td>3.49076579520215</td>\n",
       "      <td>-1.07139172370094</td>\n",
       "      <td>7.01871818730862</td>\n",
       "    </tr>\n",
       "    <tr>\n",
       "      <th>265</th>\n",
       "      <td>GDP per capita growth (annual %)</td>\n",
       "      <td>NY.GDP.PCAP.KD.ZG</td>\n",
       "      <td>World</td>\n",
       "      <td>WLD</td>\n",
       "      <td>1.11307084181323</td>\n",
       "      <td>3.12292200535036</td>\n",
       "      <td>1.46854689727738</td>\n",
       "      <td>1.58399638632282</td>\n",
       "      <td>1.83054511159007</td>\n",
       "      <td>1.87691024309744</td>\n",
       "      <td>1.61000416937223</td>\n",
       "      <td>2.20097120770278</td>\n",
       "      <td>2.14447130078329</td>\n",
       "      <td>1.53194716890674</td>\n",
       "      <td>-4.26949065937913</td>\n",
       "      <td>4.82056258626162</td>\n",
       "    </tr>\n",
       "  </tbody>\n",
       "</table>\n",
       "<p>232 rows × 16 columns</p>\n",
       "</div>"
      ],
      "text/plain": [
       "                          Series Name        Series Code  \\\n",
       "1    GDP per capita growth (annual %)  NY.GDP.PCAP.KD.ZG   \n",
       "2    GDP per capita growth (annual %)  NY.GDP.PCAP.KD.ZG   \n",
       "4    GDP per capita growth (annual %)  NY.GDP.PCAP.KD.ZG   \n",
       "5    GDP per capita growth (annual %)  NY.GDP.PCAP.KD.ZG   \n",
       "6    GDP per capita growth (annual %)  NY.GDP.PCAP.KD.ZG   \n",
       "..                                ...                ...   \n",
       "261  GDP per capita growth (annual %)  NY.GDP.PCAP.KD.ZG   \n",
       "262  GDP per capita growth (annual %)  NY.GDP.PCAP.KD.ZG   \n",
       "263  GDP per capita growth (annual %)  NY.GDP.PCAP.KD.ZG   \n",
       "264  GDP per capita growth (annual %)  NY.GDP.PCAP.KD.ZG   \n",
       "265  GDP per capita growth (annual %)  NY.GDP.PCAP.KD.ZG   \n",
       "\n",
       "                                   Country Name Country Code  \\\n",
       "1                                       Albania          ALB   \n",
       "2                                       Algeria          DZA   \n",
       "4                                       Andorra          AND   \n",
       "5                                        Angola          AGO   \n",
       "6                           Antigua and Barbuda          ATG   \n",
       "..                                          ...          ...   \n",
       "261                          Sub-Saharan Africa          SSF   \n",
       "262  Sub-Saharan Africa (excluding high income)          SSA   \n",
       "263   Sub-Saharan Africa (IDA & IBRD countries)          TSS   \n",
       "264                         Upper middle income          UMC   \n",
       "265                                       World          WLD   \n",
       "\n",
       "          1990 [YR1990]       2000 [YR2000]         2012 [YR2012]  \\\n",
       "1      -11.187905298961    7.63002243937019      1.58487281451019   \n",
       "2     -1.75407649193988    2.39949654373312       1.4017475601154   \n",
       "4    -0.133166844392832    1.91028641179476     -3.45153545003302   \n",
       "5     -6.65746725949467  -0.267956297993877      4.70440852719756   \n",
       "6      2.14522559903865    4.34085051945499      2.04993317307776   \n",
       "..                  ...                 ...                   ...   \n",
       "261  -0.372505054753276   0.828496541216268  -0.00852483609943988   \n",
       "262   -0.37671381462836   0.830501196360942  -0.00748983087372324   \n",
       "263  -0.372505054753319   0.828496541216268  -0.00852483609943988   \n",
       "264  -0.430964342795761    5.49423928019148      5.04110714371335   \n",
       "265    1.11307084181323    3.12292200535036      1.46854689727738   \n",
       "\n",
       "         2013 [YR2013]     2014 [YR2014]      2015 [YR2015]  \\\n",
       "1     1.18723435286199  1.98538809180384   2.51682705417127   \n",
       "2    0.761699380455809  1.71045490361574   1.60049369648927   \n",
       "4     -1.5688713381525  4.51927941301172   3.02081678005885   \n",
       "5     1.28760778892259  1.21734336059794  -2.47218813531357   \n",
       "6    -1.79896658725413  2.61605230937501   2.70571843639473   \n",
       "..                 ...               ...                ...   \n",
       "261   2.22618121146745  2.04890773900517  0.121086152671438   \n",
       "262   2.22532322338851  2.04907485218757  0.118827601125531   \n",
       "263   2.22618121146741  2.04890773900522  0.121086152671438   \n",
       "264   4.69869483798068  3.87564876595366   3.49937625985066   \n",
       "265   1.58399638632282  1.83054511159007   1.87691024309744   \n",
       "\n",
       "         2016 [YR2016]       2017 [YR2017]       2018 [YR2018]  \\\n",
       "1     3.48029321671386    3.89774060601475    4.27632565399514   \n",
       "2     1.10457015569865  -0.750456691967514  -0.909245790879453   \n",
       "4     4.64621154922207   0.734439351000333    1.57425431733354   \n",
       "5    -5.81613955070978   -3.41267936474142   -4.49694682670683   \n",
       "6     4.43725332350857    2.16611404366698    5.93227628165489   \n",
       "..                 ...                 ...                 ...   \n",
       "261  -1.40744813489808  -0.245488103769503  0.0119103778418008   \n",
       "262   -1.4109119169289  -0.247376132733081  0.0113178582366231   \n",
       "263  -1.40744813489808   -0.24548810376956  0.0119103778418008   \n",
       "264   3.43874231613397    4.42542148919378    4.24274530526209   \n",
       "265   1.61000416937223    2.20097120770278    2.14447130078329   \n",
       "\n",
       "          2019 [YR2019]      2020 [YR2020]      2021 [YR2021]  \n",
       "1      2.52389372255597  -2.92582095677083    9.5548753337865  \n",
       "2    -0.934555885298352  -6.82696362311546    2.0658545045749  \n",
       "4      1.83306059347608  -11.3207303470788   8.82406572722756  \n",
       "5     -3.86855912437153  -8.49308612116926  -2.46740354976019  \n",
       "6      3.96278455965997  -20.8549349330109   4.41783167040477  \n",
       "..                  ...                ...                ...  \n",
       "261  -0.101357905489493  -4.50145600008616   1.48986983145831  \n",
       "262  -0.101980038319653  -4.49656558090025    1.4915979097093  \n",
       "263  -0.101357905489451  -4.50145600008615   1.48986983145826  \n",
       "264    3.49076579520215  -1.07139172370094   7.01871818730862  \n",
       "265    1.53194716890674  -4.26949065937913   4.82056258626162  \n",
       "\n",
       "[232 rows x 16 columns]"
      ]
     },
     "execution_count": 5,
     "metadata": {},
     "output_type": "execute_result"
    }
   ],
   "source": [
    "#import GDP per capita from world bank data\n",
    "filename='ec_gdp_growth.csv'\n",
    "df_gdp = pd.read_csv(filename)\n",
    "# cleaning data\n",
    "df_gdp.replace('..', np.nan, inplace=True)\n",
    "df_gdp = df_gdp[~df_gdp['2000 [YR2000]'].isna()]\n",
    "df_gdp = df_gdp[~df_gdp['2019 [YR2019]'].isna()]\n",
    "df_gdp = df_gdp[~df_gdp['2012 [YR2012]'].isna()]\n",
    "\n",
    "df_gdp"
   ]
  },
  {
   "cell_type": "markdown",
   "id": "d769ceb6",
   "metadata": {},
   "source": [
    "Main variables: \n",
    "1.  Democracy.  \n",
    "Question: How can the political regime overall be classified considering the competitiveness of access to power \n",
    "(polyarchy) as well as liberal principles? \n",
    "Responses: 0: Closed autocracy; 1: Electoral autocracy; 2: Electoral democracy; 3: Liberal democracy. \n",
    "Years: 1900-2021  \n",
    "Scale: ordinal \n",
    "2.  Equal distribution of resources index \n",
    "Question: How equal is the distribution of resources? \n",
    "Responses: 0 is for total inequality. 1 for total equality.  \n",
    "Scale: continuous. \n",
    "Years: 1900-2021 \n",
    "3.  Political stability\n",
    "Measures perceptions of the likelihood that the government in power will be destabilized or overthrown by possibly \n",
    "unconstitutional and/or violent means, including domestic violence and terrorism. \n",
    "Scale: ordinal \n",
    "Years: 1996-2020 \n",
    "4.   State ownership of economy \n",
    "Question: Does the state own or directly control important sectors of the economy? \n",
    "Responses: 0 – totally, 4 – very little  \n",
    "Scale: Ordinal, converted to interval by the measurement model. \n",
    "Years: 1789-2021 \n",
    "5.  GDP per capita (annual %) \n",
    "GDP per capita is gross domestic product divided by population.  \n",
    "Scale: continuous,  \n",
    "Year: 1996 - 2021 "
   ]
  },
  {
   "cell_type": "code",
   "execution_count": 6,
   "id": "1fa89152",
   "metadata": {},
   "outputs": [
    {
     "data": {
      "text/html": [
       "<div>\n",
       "<style scoped>\n",
       "    .dataframe tbody tr th:only-of-type {\n",
       "        vertical-align: middle;\n",
       "    }\n",
       "\n",
       "    .dataframe tbody tr th {\n",
       "        vertical-align: top;\n",
       "    }\n",
       "\n",
       "    .dataframe thead th {\n",
       "        text-align: right;\n",
       "    }\n",
       "</style>\n",
       "<table border=\"1\" class=\"dataframe\">\n",
       "  <thead>\n",
       "    <tr style=\"text-align: right;\">\n",
       "      <th></th>\n",
       "      <th>country_name</th>\n",
       "      <th>country_text_id</th>\n",
       "      <th>year</th>\n",
       "      <th>v2x_regime</th>\n",
       "      <th>v2xeg_eqdr</th>\n",
       "      <th>e_wbgi_rqe</th>\n",
       "      <th>v2clstown</th>\n",
       "    </tr>\n",
       "  </thead>\n",
       "  <tbody>\n",
       "    <tr>\n",
       "      <th>0</th>\n",
       "      <td>Mexico</td>\n",
       "      <td>MEX</td>\n",
       "      <td>1789</td>\n",
       "      <td>NaN</td>\n",
       "      <td>NaN</td>\n",
       "      <td>NaN</td>\n",
       "      <td>-0.063</td>\n",
       "    </tr>\n",
       "    <tr>\n",
       "      <th>1</th>\n",
       "      <td>Mexico</td>\n",
       "      <td>MEX</td>\n",
       "      <td>1790</td>\n",
       "      <td>NaN</td>\n",
       "      <td>NaN</td>\n",
       "      <td>NaN</td>\n",
       "      <td>-0.063</td>\n",
       "    </tr>\n",
       "    <tr>\n",
       "      <th>2</th>\n",
       "      <td>Mexico</td>\n",
       "      <td>MEX</td>\n",
       "      <td>1791</td>\n",
       "      <td>NaN</td>\n",
       "      <td>NaN</td>\n",
       "      <td>NaN</td>\n",
       "      <td>-0.063</td>\n",
       "    </tr>\n",
       "    <tr>\n",
       "      <th>3</th>\n",
       "      <td>Mexico</td>\n",
       "      <td>MEX</td>\n",
       "      <td>1792</td>\n",
       "      <td>NaN</td>\n",
       "      <td>NaN</td>\n",
       "      <td>NaN</td>\n",
       "      <td>-0.063</td>\n",
       "    </tr>\n",
       "    <tr>\n",
       "      <th>4</th>\n",
       "      <td>Mexico</td>\n",
       "      <td>MEX</td>\n",
       "      <td>1793</td>\n",
       "      <td>NaN</td>\n",
       "      <td>NaN</td>\n",
       "      <td>NaN</td>\n",
       "      <td>-0.063</td>\n",
       "    </tr>\n",
       "    <tr>\n",
       "      <th>...</th>\n",
       "      <td>...</td>\n",
       "      <td>...</td>\n",
       "      <td>...</td>\n",
       "      <td>...</td>\n",
       "      <td>...</td>\n",
       "      <td>...</td>\n",
       "      <td>...</td>\n",
       "    </tr>\n",
       "    <tr>\n",
       "      <th>27375</th>\n",
       "      <td>Piedmont-Sardinia</td>\n",
       "      <td>SPD</td>\n",
       "      <td>1857</td>\n",
       "      <td>NaN</td>\n",
       "      <td>NaN</td>\n",
       "      <td>NaN</td>\n",
       "      <td>2.385</td>\n",
       "    </tr>\n",
       "    <tr>\n",
       "      <th>27376</th>\n",
       "      <td>Piedmont-Sardinia</td>\n",
       "      <td>SPD</td>\n",
       "      <td>1858</td>\n",
       "      <td>NaN</td>\n",
       "      <td>NaN</td>\n",
       "      <td>NaN</td>\n",
       "      <td>2.385</td>\n",
       "    </tr>\n",
       "    <tr>\n",
       "      <th>27377</th>\n",
       "      <td>Piedmont-Sardinia</td>\n",
       "      <td>SPD</td>\n",
       "      <td>1859</td>\n",
       "      <td>NaN</td>\n",
       "      <td>NaN</td>\n",
       "      <td>NaN</td>\n",
       "      <td>2.385</td>\n",
       "    </tr>\n",
       "    <tr>\n",
       "      <th>27378</th>\n",
       "      <td>Piedmont-Sardinia</td>\n",
       "      <td>SPD</td>\n",
       "      <td>1860</td>\n",
       "      <td>NaN</td>\n",
       "      <td>NaN</td>\n",
       "      <td>NaN</td>\n",
       "      <td>2.385</td>\n",
       "    </tr>\n",
       "    <tr>\n",
       "      <th>27379</th>\n",
       "      <td>Piedmont-Sardinia</td>\n",
       "      <td>SPD</td>\n",
       "      <td>1861</td>\n",
       "      <td>NaN</td>\n",
       "      <td>NaN</td>\n",
       "      <td>NaN</td>\n",
       "      <td>2.385</td>\n",
       "    </tr>\n",
       "  </tbody>\n",
       "</table>\n",
       "<p>27380 rows × 7 columns</p>\n",
       "</div>"
      ],
      "text/plain": [
       "            country_name country_text_id  year  v2x_regime  v2xeg_eqdr  \\\n",
       "0                 Mexico             MEX  1789         NaN         NaN   \n",
       "1                 Mexico             MEX  1790         NaN         NaN   \n",
       "2                 Mexico             MEX  1791         NaN         NaN   \n",
       "3                 Mexico             MEX  1792         NaN         NaN   \n",
       "4                 Mexico             MEX  1793         NaN         NaN   \n",
       "...                  ...             ...   ...         ...         ...   \n",
       "27375  Piedmont-Sardinia             SPD  1857         NaN         NaN   \n",
       "27376  Piedmont-Sardinia             SPD  1858         NaN         NaN   \n",
       "27377  Piedmont-Sardinia             SPD  1859         NaN         NaN   \n",
       "27378  Piedmont-Sardinia             SPD  1860         NaN         NaN   \n",
       "27379  Piedmont-Sardinia             SPD  1861         NaN         NaN   \n",
       "\n",
       "       e_wbgi_rqe  v2clstown  \n",
       "0             NaN     -0.063  \n",
       "1             NaN     -0.063  \n",
       "2             NaN     -0.063  \n",
       "3             NaN     -0.063  \n",
       "4             NaN     -0.063  \n",
       "...           ...        ...  \n",
       "27375         NaN      2.385  \n",
       "27376         NaN      2.385  \n",
       "27377         NaN      2.385  \n",
       "27378         NaN      2.385  \n",
       "27379         NaN      2.385  \n",
       "\n",
       "[27380 rows x 7 columns]"
      ]
     },
     "execution_count": 6,
     "metadata": {},
     "output_type": "execute_result"
    }
   ],
   "source": [
    "#selecting the variables for framework\n",
    "df = df_dem[[\"country_name\", 'country_text_id', \"year\",'v2x_regime', 'v2xeg_eqdr', 'e_wbgi_rqe', 'v2clstown'  ]]\n",
    "df"
   ]
  },
  {
   "cell_type": "code",
   "execution_count": 7,
   "id": "228bcd61",
   "metadata": {},
   "outputs": [
    {
     "name": "stderr",
     "output_type": "stream",
     "text": [
      "C:\\Users\\russu_anastasiia\\AppData\\Local\\Temp\\ipykernel_11024\\3556663936.py:2: SettingWithCopyWarning: \n",
      "A value is trying to be set on a copy of a slice from a DataFrame\n",
      "\n",
      "See the caveats in the documentation: https://pandas.pydata.org/pandas-docs/stable/user_guide/indexing.html#returning-a-view-versus-a-copy\n",
      "  df.replace('..', np.nan, inplace=True)\n"
     ]
    },
    {
     "data": {
      "text/html": [
       "<div>\n",
       "<style scoped>\n",
       "    .dataframe tbody tr th:only-of-type {\n",
       "        vertical-align: middle;\n",
       "    }\n",
       "\n",
       "    .dataframe tbody tr th {\n",
       "        vertical-align: top;\n",
       "    }\n",
       "\n",
       "    .dataframe thead th {\n",
       "        text-align: right;\n",
       "    }\n",
       "</style>\n",
       "<table border=\"1\" class=\"dataframe\">\n",
       "  <thead>\n",
       "    <tr style=\"text-align: right;\">\n",
       "      <th></th>\n",
       "      <th>country_name</th>\n",
       "      <th>country_text_id</th>\n",
       "      <th>year</th>\n",
       "      <th>v2x_regime</th>\n",
       "      <th>v2xeg_eqdr</th>\n",
       "      <th>e_wbgi_rqe</th>\n",
       "      <th>v2clstown</th>\n",
       "    </tr>\n",
       "  </thead>\n",
       "  <tbody>\n",
       "    <tr>\n",
       "      <th>207</th>\n",
       "      <td>Mexico</td>\n",
       "      <td>MEX</td>\n",
       "      <td>1996</td>\n",
       "      <td>2.0</td>\n",
       "      <td>0.294</td>\n",
       "      <td>0.132</td>\n",
       "      <td>0.965</td>\n",
       "    </tr>\n",
       "    <tr>\n",
       "      <th>209</th>\n",
       "      <td>Mexico</td>\n",
       "      <td>MEX</td>\n",
       "      <td>1998</td>\n",
       "      <td>2.0</td>\n",
       "      <td>0.294</td>\n",
       "      <td>0.209</td>\n",
       "      <td>0.965</td>\n",
       "    </tr>\n",
       "    <tr>\n",
       "      <th>211</th>\n",
       "      <td>Mexico</td>\n",
       "      <td>MEX</td>\n",
       "      <td>2000</td>\n",
       "      <td>2.0</td>\n",
       "      <td>0.307</td>\n",
       "      <td>0.254</td>\n",
       "      <td>0.965</td>\n",
       "    </tr>\n",
       "    <tr>\n",
       "      <th>213</th>\n",
       "      <td>Mexico</td>\n",
       "      <td>MEX</td>\n",
       "      <td>2002</td>\n",
       "      <td>2.0</td>\n",
       "      <td>0.317</td>\n",
       "      <td>0.453</td>\n",
       "      <td>0.904</td>\n",
       "    </tr>\n",
       "    <tr>\n",
       "      <th>214</th>\n",
       "      <td>Mexico</td>\n",
       "      <td>MEX</td>\n",
       "      <td>2003</td>\n",
       "      <td>2.0</td>\n",
       "      <td>0.317</td>\n",
       "      <td>0.364</td>\n",
       "      <td>0.904</td>\n",
       "    </tr>\n",
       "  </tbody>\n",
       "</table>\n",
       "</div>"
      ],
      "text/plain": [
       "    country_name country_text_id  year  v2x_regime  v2xeg_eqdr  e_wbgi_rqe  \\\n",
       "207       Mexico             MEX  1996         2.0       0.294       0.132   \n",
       "209       Mexico             MEX  1998         2.0       0.294       0.209   \n",
       "211       Mexico             MEX  2000         2.0       0.307       0.254   \n",
       "213       Mexico             MEX  2002         2.0       0.317       0.453   \n",
       "214       Mexico             MEX  2003         2.0       0.317       0.364   \n",
       "\n",
       "     v2clstown  \n",
       "207      0.965  \n",
       "209      0.965  \n",
       "211      0.965  \n",
       "213      0.904  \n",
       "214      0.904  "
      ]
     },
     "execution_count": 7,
     "metadata": {},
     "output_type": "execute_result"
    }
   ],
   "source": [
    "#cleaning data\n",
    "df.replace('..', np.nan, inplace=True)\n",
    "# transfer strings to the numbers \n",
    "df = df[~df['v2x_regime'].isna()]\n",
    "df = df.astype({'v2x_regime': 'float'})\n",
    "df = df[~df['e_wbgi_rqe'].isna()]\n",
    "df = df.astype({'e_wbgi_rqe': 'float'})\n",
    "df = df[~df['v2clstown'].isna()]\n",
    "df = df.astype({'v2clstown': 'float'})\n",
    "df.head()\n"
   ]
  },
  {
   "cell_type": "code",
   "execution_count": 8,
   "id": "d53b13da",
   "metadata": {},
   "outputs": [],
   "source": [
    "#renamig columns for convience\n",
    "df = df.rename(columns={\"country_name\": \"Country\", \"v2x_regime\": \"Democracy\", \"v2xeg_eqdr\": \"Distribution\", \"e_wbgi_rqe\": \"Stability\", \"v2clstown\": \"Ownership\"})\n",
    "df_gdp = df_gdp.rename(columns={\"1990 [YR1990]\": 1990, \"2000 [YR2000]\": 2000, \"2012 [YR2012]\": 2012, \"2013 [YR2013]\": 2013, \"2014 [YR2014]\": 2014, \"2015 [YR2015]\": 2015, \"2016 [YR2016]\": 2016, \"2017 [YR2017]\": 2017, \"2018 [YR2018]\": 2018, \"2019 [YR2019]\": 2019, \"2020 [YR2020]\": 2020, \"2021 [YR2021]\": 2021})\n",
    "df_gdp = df_gdp.dropna()\n",
    "df = df.dropna()"
   ]
  },
  {
   "cell_type": "code",
   "execution_count": 9,
   "id": "785a993b",
   "metadata": {},
   "outputs": [
    {
     "data": {
      "text/html": [
       "<div>\n",
       "<style scoped>\n",
       "    .dataframe tbody tr th:only-of-type {\n",
       "        vertical-align: middle;\n",
       "    }\n",
       "\n",
       "    .dataframe tbody tr th {\n",
       "        vertical-align: top;\n",
       "    }\n",
       "\n",
       "    .dataframe thead th {\n",
       "        text-align: right;\n",
       "    }\n",
       "</style>\n",
       "<table border=\"1\" class=\"dataframe\">\n",
       "  <thead>\n",
       "    <tr style=\"text-align: right;\">\n",
       "      <th></th>\n",
       "      <th>Series Name</th>\n",
       "      <th>Series Code</th>\n",
       "      <th>Country Name</th>\n",
       "      <th>Country Code</th>\n",
       "      <th>1990</th>\n",
       "      <th>2000</th>\n",
       "      <th>2012</th>\n",
       "      <th>2013</th>\n",
       "      <th>2014</th>\n",
       "      <th>2015</th>\n",
       "      <th>2016</th>\n",
       "      <th>2017</th>\n",
       "      <th>2018</th>\n",
       "      <th>2019</th>\n",
       "      <th>2020</th>\n",
       "      <th>2021</th>\n",
       "    </tr>\n",
       "  </thead>\n",
       "  <tbody>\n",
       "    <tr>\n",
       "      <th>1</th>\n",
       "      <td>GDP per capita growth (annual %)</td>\n",
       "      <td>NY.GDP.PCAP.KD.ZG</td>\n",
       "      <td>Albania</td>\n",
       "      <td>ALB</td>\n",
       "      <td>-11.187905298961</td>\n",
       "      <td>7.63002243937019</td>\n",
       "      <td>1.58487281451019</td>\n",
       "      <td>1.18723435286199</td>\n",
       "      <td>1.98538809180384</td>\n",
       "      <td>2.51682705417127</td>\n",
       "      <td>3.48029321671386</td>\n",
       "      <td>3.89774060601475</td>\n",
       "      <td>4.27632565399514</td>\n",
       "      <td>2.52389372255597</td>\n",
       "      <td>-2.92582095677083</td>\n",
       "      <td>9.5548753337865</td>\n",
       "    </tr>\n",
       "    <tr>\n",
       "      <th>2</th>\n",
       "      <td>GDP per capita growth (annual %)</td>\n",
       "      <td>NY.GDP.PCAP.KD.ZG</td>\n",
       "      <td>Algeria</td>\n",
       "      <td>DZA</td>\n",
       "      <td>-1.75407649193988</td>\n",
       "      <td>2.39949654373312</td>\n",
       "      <td>1.4017475601154</td>\n",
       "      <td>0.761699380455809</td>\n",
       "      <td>1.71045490361574</td>\n",
       "      <td>1.60049369648927</td>\n",
       "      <td>1.10457015569865</td>\n",
       "      <td>-0.750456691967514</td>\n",
       "      <td>-0.909245790879453</td>\n",
       "      <td>-0.934555885298352</td>\n",
       "      <td>-6.82696362311546</td>\n",
       "      <td>2.0658545045749</td>\n",
       "    </tr>\n",
       "    <tr>\n",
       "      <th>4</th>\n",
       "      <td>GDP per capita growth (annual %)</td>\n",
       "      <td>NY.GDP.PCAP.KD.ZG</td>\n",
       "      <td>Andorra</td>\n",
       "      <td>AND</td>\n",
       "      <td>-0.133166844392832</td>\n",
       "      <td>1.91028641179476</td>\n",
       "      <td>-3.45153545003302</td>\n",
       "      <td>-1.5688713381525</td>\n",
       "      <td>4.51927941301172</td>\n",
       "      <td>3.02081678005885</td>\n",
       "      <td>4.64621154922207</td>\n",
       "      <td>0.734439351000333</td>\n",
       "      <td>1.57425431733354</td>\n",
       "      <td>1.83306059347608</td>\n",
       "      <td>-11.3207303470788</td>\n",
       "      <td>8.82406572722756</td>\n",
       "    </tr>\n",
       "    <tr>\n",
       "      <th>5</th>\n",
       "      <td>GDP per capita growth (annual %)</td>\n",
       "      <td>NY.GDP.PCAP.KD.ZG</td>\n",
       "      <td>Angola</td>\n",
       "      <td>AGO</td>\n",
       "      <td>-6.65746725949467</td>\n",
       "      <td>-0.267956297993877</td>\n",
       "      <td>4.70440852719756</td>\n",
       "      <td>1.28760778892259</td>\n",
       "      <td>1.21734336059794</td>\n",
       "      <td>-2.47218813531357</td>\n",
       "      <td>-5.81613955070978</td>\n",
       "      <td>-3.41267936474142</td>\n",
       "      <td>-4.49694682670683</td>\n",
       "      <td>-3.86855912437153</td>\n",
       "      <td>-8.49308612116926</td>\n",
       "      <td>-2.46740354976019</td>\n",
       "    </tr>\n",
       "    <tr>\n",
       "      <th>6</th>\n",
       "      <td>GDP per capita growth (annual %)</td>\n",
       "      <td>NY.GDP.PCAP.KD.ZG</td>\n",
       "      <td>Antigua and Barbuda</td>\n",
       "      <td>ATG</td>\n",
       "      <td>2.14522559903865</td>\n",
       "      <td>4.34085051945499</td>\n",
       "      <td>2.04993317307776</td>\n",
       "      <td>-1.79896658725413</td>\n",
       "      <td>2.61605230937501</td>\n",
       "      <td>2.70571843639473</td>\n",
       "      <td>4.43725332350857</td>\n",
       "      <td>2.16611404366698</td>\n",
       "      <td>5.93227628165489</td>\n",
       "      <td>3.96278455965997</td>\n",
       "      <td>-20.8549349330109</td>\n",
       "      <td>4.41783167040477</td>\n",
       "    </tr>\n",
       "    <tr>\n",
       "      <th>...</th>\n",
       "      <td>...</td>\n",
       "      <td>...</td>\n",
       "      <td>...</td>\n",
       "      <td>...</td>\n",
       "      <td>...</td>\n",
       "      <td>...</td>\n",
       "      <td>...</td>\n",
       "      <td>...</td>\n",
       "      <td>...</td>\n",
       "      <td>...</td>\n",
       "      <td>...</td>\n",
       "      <td>...</td>\n",
       "      <td>...</td>\n",
       "      <td>...</td>\n",
       "      <td>...</td>\n",
       "      <td>...</td>\n",
       "    </tr>\n",
       "    <tr>\n",
       "      <th>261</th>\n",
       "      <td>GDP per capita growth (annual %)</td>\n",
       "      <td>NY.GDP.PCAP.KD.ZG</td>\n",
       "      <td>Sub-Saharan Africa</td>\n",
       "      <td>SSF</td>\n",
       "      <td>-0.372505054753276</td>\n",
       "      <td>0.828496541216268</td>\n",
       "      <td>-0.00852483609943988</td>\n",
       "      <td>2.22618121146745</td>\n",
       "      <td>2.04890773900517</td>\n",
       "      <td>0.121086152671438</td>\n",
       "      <td>-1.40744813489808</td>\n",
       "      <td>-0.245488103769503</td>\n",
       "      <td>0.0119103778418008</td>\n",
       "      <td>-0.101357905489493</td>\n",
       "      <td>-4.50145600008616</td>\n",
       "      <td>1.48986983145831</td>\n",
       "    </tr>\n",
       "    <tr>\n",
       "      <th>262</th>\n",
       "      <td>GDP per capita growth (annual %)</td>\n",
       "      <td>NY.GDP.PCAP.KD.ZG</td>\n",
       "      <td>Sub-Saharan Africa (excluding high income)</td>\n",
       "      <td>SSA</td>\n",
       "      <td>-0.37671381462836</td>\n",
       "      <td>0.830501196360942</td>\n",
       "      <td>-0.00748983087372324</td>\n",
       "      <td>2.22532322338851</td>\n",
       "      <td>2.04907485218757</td>\n",
       "      <td>0.118827601125531</td>\n",
       "      <td>-1.4109119169289</td>\n",
       "      <td>-0.247376132733081</td>\n",
       "      <td>0.0113178582366231</td>\n",
       "      <td>-0.101980038319653</td>\n",
       "      <td>-4.49656558090025</td>\n",
       "      <td>1.4915979097093</td>\n",
       "    </tr>\n",
       "    <tr>\n",
       "      <th>263</th>\n",
       "      <td>GDP per capita growth (annual %)</td>\n",
       "      <td>NY.GDP.PCAP.KD.ZG</td>\n",
       "      <td>Sub-Saharan Africa (IDA &amp; IBRD countries)</td>\n",
       "      <td>TSS</td>\n",
       "      <td>-0.372505054753319</td>\n",
       "      <td>0.828496541216268</td>\n",
       "      <td>-0.00852483609943988</td>\n",
       "      <td>2.22618121146741</td>\n",
       "      <td>2.04890773900522</td>\n",
       "      <td>0.121086152671438</td>\n",
       "      <td>-1.40744813489808</td>\n",
       "      <td>-0.24548810376956</td>\n",
       "      <td>0.0119103778418008</td>\n",
       "      <td>-0.101357905489451</td>\n",
       "      <td>-4.50145600008615</td>\n",
       "      <td>1.48986983145826</td>\n",
       "    </tr>\n",
       "    <tr>\n",
       "      <th>264</th>\n",
       "      <td>GDP per capita growth (annual %)</td>\n",
       "      <td>NY.GDP.PCAP.KD.ZG</td>\n",
       "      <td>Upper middle income</td>\n",
       "      <td>UMC</td>\n",
       "      <td>-0.430964342795761</td>\n",
       "      <td>5.49423928019148</td>\n",
       "      <td>5.04110714371335</td>\n",
       "      <td>4.69869483798068</td>\n",
       "      <td>3.87564876595366</td>\n",
       "      <td>3.49937625985066</td>\n",
       "      <td>3.43874231613397</td>\n",
       "      <td>4.42542148919378</td>\n",
       "      <td>4.24274530526209</td>\n",
       "      <td>3.49076579520215</td>\n",
       "      <td>-1.07139172370094</td>\n",
       "      <td>7.01871818730862</td>\n",
       "    </tr>\n",
       "    <tr>\n",
       "      <th>265</th>\n",
       "      <td>GDP per capita growth (annual %)</td>\n",
       "      <td>NY.GDP.PCAP.KD.ZG</td>\n",
       "      <td>World</td>\n",
       "      <td>WLD</td>\n",
       "      <td>1.11307084181323</td>\n",
       "      <td>3.12292200535036</td>\n",
       "      <td>1.46854689727738</td>\n",
       "      <td>1.58399638632282</td>\n",
       "      <td>1.83054511159007</td>\n",
       "      <td>1.87691024309744</td>\n",
       "      <td>1.61000416937223</td>\n",
       "      <td>2.20097120770278</td>\n",
       "      <td>2.14447130078329</td>\n",
       "      <td>1.53194716890674</td>\n",
       "      <td>-4.26949065937913</td>\n",
       "      <td>4.82056258626162</td>\n",
       "    </tr>\n",
       "  </tbody>\n",
       "</table>\n",
       "<p>188 rows × 16 columns</p>\n",
       "</div>"
      ],
      "text/plain": [
       "                          Series Name        Series Code  \\\n",
       "1    GDP per capita growth (annual %)  NY.GDP.PCAP.KD.ZG   \n",
       "2    GDP per capita growth (annual %)  NY.GDP.PCAP.KD.ZG   \n",
       "4    GDP per capita growth (annual %)  NY.GDP.PCAP.KD.ZG   \n",
       "5    GDP per capita growth (annual %)  NY.GDP.PCAP.KD.ZG   \n",
       "6    GDP per capita growth (annual %)  NY.GDP.PCAP.KD.ZG   \n",
       "..                                ...                ...   \n",
       "261  GDP per capita growth (annual %)  NY.GDP.PCAP.KD.ZG   \n",
       "262  GDP per capita growth (annual %)  NY.GDP.PCAP.KD.ZG   \n",
       "263  GDP per capita growth (annual %)  NY.GDP.PCAP.KD.ZG   \n",
       "264  GDP per capita growth (annual %)  NY.GDP.PCAP.KD.ZG   \n",
       "265  GDP per capita growth (annual %)  NY.GDP.PCAP.KD.ZG   \n",
       "\n",
       "                                   Country Name Country Code  \\\n",
       "1                                       Albania          ALB   \n",
       "2                                       Algeria          DZA   \n",
       "4                                       Andorra          AND   \n",
       "5                                        Angola          AGO   \n",
       "6                           Antigua and Barbuda          ATG   \n",
       "..                                          ...          ...   \n",
       "261                          Sub-Saharan Africa          SSF   \n",
       "262  Sub-Saharan Africa (excluding high income)          SSA   \n",
       "263   Sub-Saharan Africa (IDA & IBRD countries)          TSS   \n",
       "264                         Upper middle income          UMC   \n",
       "265                                       World          WLD   \n",
       "\n",
       "                   1990                2000                  2012  \\\n",
       "1      -11.187905298961    7.63002243937019      1.58487281451019   \n",
       "2     -1.75407649193988    2.39949654373312       1.4017475601154   \n",
       "4    -0.133166844392832    1.91028641179476     -3.45153545003302   \n",
       "5     -6.65746725949467  -0.267956297993877      4.70440852719756   \n",
       "6      2.14522559903865    4.34085051945499      2.04993317307776   \n",
       "..                  ...                 ...                   ...   \n",
       "261  -0.372505054753276   0.828496541216268  -0.00852483609943988   \n",
       "262   -0.37671381462836   0.830501196360942  -0.00748983087372324   \n",
       "263  -0.372505054753319   0.828496541216268  -0.00852483609943988   \n",
       "264  -0.430964342795761    5.49423928019148      5.04110714371335   \n",
       "265    1.11307084181323    3.12292200535036      1.46854689727738   \n",
       "\n",
       "                  2013              2014               2015  \\\n",
       "1     1.18723435286199  1.98538809180384   2.51682705417127   \n",
       "2    0.761699380455809  1.71045490361574   1.60049369648927   \n",
       "4     -1.5688713381525  4.51927941301172   3.02081678005885   \n",
       "5     1.28760778892259  1.21734336059794  -2.47218813531357   \n",
       "6    -1.79896658725413  2.61605230937501   2.70571843639473   \n",
       "..                 ...               ...                ...   \n",
       "261   2.22618121146745  2.04890773900517  0.121086152671438   \n",
       "262   2.22532322338851  2.04907485218757  0.118827601125531   \n",
       "263   2.22618121146741  2.04890773900522  0.121086152671438   \n",
       "264   4.69869483798068  3.87564876595366   3.49937625985066   \n",
       "265   1.58399638632282  1.83054511159007   1.87691024309744   \n",
       "\n",
       "                  2016                2017                2018  \\\n",
       "1     3.48029321671386    3.89774060601475    4.27632565399514   \n",
       "2     1.10457015569865  -0.750456691967514  -0.909245790879453   \n",
       "4     4.64621154922207   0.734439351000333    1.57425431733354   \n",
       "5    -5.81613955070978   -3.41267936474142   -4.49694682670683   \n",
       "6     4.43725332350857    2.16611404366698    5.93227628165489   \n",
       "..                 ...                 ...                 ...   \n",
       "261  -1.40744813489808  -0.245488103769503  0.0119103778418008   \n",
       "262   -1.4109119169289  -0.247376132733081  0.0113178582366231   \n",
       "263  -1.40744813489808   -0.24548810376956  0.0119103778418008   \n",
       "264   3.43874231613397    4.42542148919378    4.24274530526209   \n",
       "265   1.61000416937223    2.20097120770278    2.14447130078329   \n",
       "\n",
       "                   2019               2020               2021  \n",
       "1      2.52389372255597  -2.92582095677083    9.5548753337865  \n",
       "2    -0.934555885298352  -6.82696362311546    2.0658545045749  \n",
       "4      1.83306059347608  -11.3207303470788   8.82406572722756  \n",
       "5     -3.86855912437153  -8.49308612116926  -2.46740354976019  \n",
       "6      3.96278455965997  -20.8549349330109   4.41783167040477  \n",
       "..                  ...                ...                ...  \n",
       "261  -0.101357905489493  -4.50145600008616   1.48986983145831  \n",
       "262  -0.101980038319653  -4.49656558090025    1.4915979097093  \n",
       "263  -0.101357905489451  -4.50145600008615   1.48986983145826  \n",
       "264    3.49076579520215  -1.07139172370094   7.01871818730862  \n",
       "265    1.53194716890674  -4.26949065937913   4.82056258626162  \n",
       "\n",
       "[188 rows x 16 columns]"
      ]
     },
     "execution_count": 9,
     "metadata": {},
     "output_type": "execute_result"
    }
   ],
   "source": [
    "df_gdp"
   ]
  },
  {
   "cell_type": "markdown",
   "id": "d45befc2",
   "metadata": {},
   "source": [
    "Preparing data for 2000, 2012 and 2019 years"
   ]
  },
  {
   "cell_type": "code",
   "execution_count": 10,
   "id": "5ebf6cba",
   "metadata": {},
   "outputs": [
    {
     "name": "stderr",
     "output_type": "stream",
     "text": [
      "C:\\Users\\russu_anastasiia\\AppData\\Local\\Temp\\ipykernel_11024\\4215609853.py:5: SettingWithCopyWarning: \n",
      "A value is trying to be set on a copy of a slice from a DataFrame.\n",
      "Try using .loc[row_indexer,col_indexer] = value instead\n",
      "\n",
      "See the caveats in the documentation: https://pandas.pydata.org/pandas-docs/stable/user_guide/indexing.html#returning-a-view-versus-a-copy\n",
      "  df_1['GDP per capita'] = df_1['country_text_id'].map(country_to_gdp)\n"
     ]
    },
    {
     "data": {
      "text/html": [
       "<div>\n",
       "<style scoped>\n",
       "    .dataframe tbody tr th:only-of-type {\n",
       "        vertical-align: middle;\n",
       "    }\n",
       "\n",
       "    .dataframe tbody tr th {\n",
       "        vertical-align: top;\n",
       "    }\n",
       "\n",
       "    .dataframe thead th {\n",
       "        text-align: right;\n",
       "    }\n",
       "</style>\n",
       "<table border=\"1\" class=\"dataframe\">\n",
       "  <thead>\n",
       "    <tr style=\"text-align: right;\">\n",
       "      <th></th>\n",
       "      <th>Country</th>\n",
       "      <th>country_text_id</th>\n",
       "      <th>year</th>\n",
       "      <th>Democracy</th>\n",
       "      <th>Distribution</th>\n",
       "      <th>Stability</th>\n",
       "      <th>Ownership</th>\n",
       "      <th>GDP per capita</th>\n",
       "    </tr>\n",
       "  </thead>\n",
       "  <tbody>\n",
       "    <tr>\n",
       "      <th>211</th>\n",
       "      <td>Mexico</td>\n",
       "      <td>MEX</td>\n",
       "      <td>2000</td>\n",
       "      <td>2.0</td>\n",
       "      <td>0.307</td>\n",
       "      <td>0.254</td>\n",
       "      <td>0.965</td>\n",
       "      <td>3.4409763287365</td>\n",
       "    </tr>\n",
       "    <tr>\n",
       "      <th>333</th>\n",
       "      <td>Suriname</td>\n",
       "      <td>SUR</td>\n",
       "      <td>2000</td>\n",
       "      <td>2.0</td>\n",
       "      <td>0.661</td>\n",
       "      <td>-0.571</td>\n",
       "      <td>0.012</td>\n",
       "      <td>0.893731469048191</td>\n",
       "    </tr>\n",
       "    <tr>\n",
       "      <th>566</th>\n",
       "      <td>Sweden</td>\n",
       "      <td>SWE</td>\n",
       "      <td>2000</td>\n",
       "      <td>3.0</td>\n",
       "      <td>0.967</td>\n",
       "      <td>1.405</td>\n",
       "      <td>1.586</td>\n",
       "      <td>4.59825479417304</td>\n",
       "    </tr>\n",
       "    <tr>\n",
       "      <th>790</th>\n",
       "      <td>Switzerland</td>\n",
       "      <td>CHE</td>\n",
       "      <td>2000</td>\n",
       "      <td>3.0</td>\n",
       "      <td>0.970</td>\n",
       "      <td>1.859</td>\n",
       "      <td>1.889</td>\n",
       "      <td>3.3937476814814</td>\n",
       "    </tr>\n",
       "    <tr>\n",
       "      <th>910</th>\n",
       "      <td>Ghana</td>\n",
       "      <td>GHA</td>\n",
       "      <td>2000</td>\n",
       "      <td>2.0</td>\n",
       "      <td>0.416</td>\n",
       "      <td>-0.067</td>\n",
       "      <td>1.000</td>\n",
       "      <td>1.1908213838439</td>\n",
       "    </tr>\n",
       "  </tbody>\n",
       "</table>\n",
       "</div>"
      ],
      "text/plain": [
       "         Country country_text_id  year  Democracy  Distribution  Stability  \\\n",
       "211       Mexico             MEX  2000        2.0         0.307      0.254   \n",
       "333     Suriname             SUR  2000        2.0         0.661     -0.571   \n",
       "566       Sweden             SWE  2000        3.0         0.967      1.405   \n",
       "790  Switzerland             CHE  2000        3.0         0.970      1.859   \n",
       "910        Ghana             GHA  2000        2.0         0.416     -0.067   \n",
       "\n",
       "     Ownership     GDP per capita  \n",
       "211      0.965    3.4409763287365  \n",
       "333      0.012  0.893731469048191  \n",
       "566      1.586   4.59825479417304  \n",
       "790      1.889    3.3937476814814  \n",
       "910      1.000    1.1908213838439  "
      ]
     },
     "execution_count": 10,
     "metadata": {},
     "output_type": "execute_result"
    }
   ],
   "source": [
    "df_1 = df[df['year'] == 2000]\n",
    "Country_code = df_1['country_text_id']\n",
    "#adding the 2000 year GDP to the 2000 year dataset\n",
    "country_to_gdp = dict(zip(df_gdp['Country Code'], df_gdp[2000]))\n",
    "df_1['GDP per capita'] = df_1['country_text_id'].map(country_to_gdp)\n",
    "df_1.head()"
   ]
  },
  {
   "cell_type": "code",
   "execution_count": 11,
   "id": "22929609",
   "metadata": {},
   "outputs": [
    {
     "data": {
      "text/html": [
       "<div>\n",
       "<style scoped>\n",
       "    .dataframe tbody tr th:only-of-type {\n",
       "        vertical-align: middle;\n",
       "    }\n",
       "\n",
       "    .dataframe tbody tr th {\n",
       "        vertical-align: top;\n",
       "    }\n",
       "\n",
       "    .dataframe thead th {\n",
       "        text-align: right;\n",
       "    }\n",
       "</style>\n",
       "<table border=\"1\" class=\"dataframe\">\n",
       "  <thead>\n",
       "    <tr style=\"text-align: right;\">\n",
       "      <th></th>\n",
       "      <th>Country</th>\n",
       "      <th>country_text_id</th>\n",
       "      <th>year</th>\n",
       "      <th>Democracy</th>\n",
       "      <th>Distribution</th>\n",
       "      <th>Stability</th>\n",
       "      <th>Ownership</th>\n",
       "      <th>GDP per capita</th>\n",
       "    </tr>\n",
       "  </thead>\n",
       "  <tbody>\n",
       "    <tr>\n",
       "      <th>211</th>\n",
       "      <td>Mexico</td>\n",
       "      <td>MEX</td>\n",
       "      <td>2000</td>\n",
       "      <td>2.0</td>\n",
       "      <td>0.307</td>\n",
       "      <td>0.254</td>\n",
       "      <td>0.965</td>\n",
       "      <td>3.4409763287365</td>\n",
       "    </tr>\n",
       "    <tr>\n",
       "      <th>333</th>\n",
       "      <td>Suriname</td>\n",
       "      <td>SUR</td>\n",
       "      <td>2000</td>\n",
       "      <td>2.0</td>\n",
       "      <td>0.661</td>\n",
       "      <td>-0.571</td>\n",
       "      <td>0.012</td>\n",
       "      <td>0.893731469048191</td>\n",
       "    </tr>\n",
       "    <tr>\n",
       "      <th>566</th>\n",
       "      <td>Sweden</td>\n",
       "      <td>SWE</td>\n",
       "      <td>2000</td>\n",
       "      <td>3.0</td>\n",
       "      <td>0.967</td>\n",
       "      <td>1.405</td>\n",
       "      <td>1.586</td>\n",
       "      <td>4.59825479417304</td>\n",
       "    </tr>\n",
       "    <tr>\n",
       "      <th>790</th>\n",
       "      <td>Switzerland</td>\n",
       "      <td>CHE</td>\n",
       "      <td>2000</td>\n",
       "      <td>3.0</td>\n",
       "      <td>0.970</td>\n",
       "      <td>1.859</td>\n",
       "      <td>1.889</td>\n",
       "      <td>3.3937476814814</td>\n",
       "    </tr>\n",
       "    <tr>\n",
       "      <th>910</th>\n",
       "      <td>Ghana</td>\n",
       "      <td>GHA</td>\n",
       "      <td>2000</td>\n",
       "      <td>2.0</td>\n",
       "      <td>0.416</td>\n",
       "      <td>-0.067</td>\n",
       "      <td>1.000</td>\n",
       "      <td>1.1908213838439</td>\n",
       "    </tr>\n",
       "    <tr>\n",
       "      <th>...</th>\n",
       "      <td>...</td>\n",
       "      <td>...</td>\n",
       "      <td>...</td>\n",
       "      <td>...</td>\n",
       "      <td>...</td>\n",
       "      <td>...</td>\n",
       "      <td>...</td>\n",
       "      <td>...</td>\n",
       "    </tr>\n",
       "    <tr>\n",
       "      <th>25234</th>\n",
       "      <td>Slovenia</td>\n",
       "      <td>SVN</td>\n",
       "      <td>2000</td>\n",
       "      <td>3.0</td>\n",
       "      <td>0.979</td>\n",
       "      <td>0.692</td>\n",
       "      <td>0.735</td>\n",
       "      <td>NaN</td>\n",
       "    </tr>\n",
       "    <tr>\n",
       "      <th>25356</th>\n",
       "      <td>Solomon Islands</td>\n",
       "      <td>SLB</td>\n",
       "      <td>2000</td>\n",
       "      <td>1.0</td>\n",
       "      <td>0.234</td>\n",
       "      <td>-1.390</td>\n",
       "      <td>0.893</td>\n",
       "      <td>-16.5771960073575</td>\n",
       "    </tr>\n",
       "    <tr>\n",
       "      <th>25478</th>\n",
       "      <td>Vanuatu</td>\n",
       "      <td>VUT</td>\n",
       "      <td>2000</td>\n",
       "      <td>2.0</td>\n",
       "      <td>0.712</td>\n",
       "      <td>-0.426</td>\n",
       "      <td>0.855</td>\n",
       "      <td>3.80303715737882</td>\n",
       "    </tr>\n",
       "    <tr>\n",
       "      <th>25529</th>\n",
       "      <td>United Arab Emirates</td>\n",
       "      <td>ARE</td>\n",
       "      <td>2000</td>\n",
       "      <td>0.0</td>\n",
       "      <td>0.527</td>\n",
       "      <td>0.729</td>\n",
       "      <td>-1.615</td>\n",
       "      <td>NaN</td>\n",
       "    </tr>\n",
       "    <tr>\n",
       "      <th>25793</th>\n",
       "      <td>Hungary</td>\n",
       "      <td>HUN</td>\n",
       "      <td>2000</td>\n",
       "      <td>3.0</td>\n",
       "      <td>0.840</td>\n",
       "      <td>1.090</td>\n",
       "      <td>1.879</td>\n",
       "      <td>NaN</td>\n",
       "    </tr>\n",
       "  </tbody>\n",
       "</table>\n",
       "<p>172 rows × 8 columns</p>\n",
       "</div>"
      ],
      "text/plain": [
       "                    Country country_text_id  year  Democracy  Distribution  \\\n",
       "211                  Mexico             MEX  2000        2.0         0.307   \n",
       "333                Suriname             SUR  2000        2.0         0.661   \n",
       "566                  Sweden             SWE  2000        3.0         0.967   \n",
       "790             Switzerland             CHE  2000        3.0         0.970   \n",
       "910                   Ghana             GHA  2000        2.0         0.416   \n",
       "...                     ...             ...   ...        ...           ...   \n",
       "25234              Slovenia             SVN  2000        3.0         0.979   \n",
       "25356       Solomon Islands             SLB  2000        1.0         0.234   \n",
       "25478               Vanuatu             VUT  2000        2.0         0.712   \n",
       "25529  United Arab Emirates             ARE  2000        0.0         0.527   \n",
       "25793               Hungary             HUN  2000        3.0         0.840   \n",
       "\n",
       "       Stability  Ownership     GDP per capita  \n",
       "211        0.254      0.965    3.4409763287365  \n",
       "333       -0.571      0.012  0.893731469048191  \n",
       "566        1.405      1.586   4.59825479417304  \n",
       "790        1.859      1.889    3.3937476814814  \n",
       "910       -0.067      1.000    1.1908213838439  \n",
       "...          ...        ...                ...  \n",
       "25234      0.692      0.735                NaN  \n",
       "25356     -1.390      0.893  -16.5771960073575  \n",
       "25478     -0.426      0.855   3.80303715737882  \n",
       "25529      0.729     -1.615                NaN  \n",
       "25793      1.090      1.879                NaN  \n",
       "\n",
       "[172 rows x 8 columns]"
      ]
     },
     "execution_count": 11,
     "metadata": {},
     "output_type": "execute_result"
    }
   ],
   "source": [
    "df_1"
   ]
  },
  {
   "cell_type": "code",
   "execution_count": 12,
   "id": "b7a25f7e",
   "metadata": {},
   "outputs": [
    {
     "name": "stderr",
     "output_type": "stream",
     "text": [
      "C:\\Users\\russu_anastasiia\\AppData\\Local\\Temp\\ipykernel_11024\\2291433247.py:4: SettingWithCopyWarning: \n",
      "A value is trying to be set on a copy of a slice from a DataFrame.\n",
      "Try using .loc[row_indexer,col_indexer] = value instead\n",
      "\n",
      "See the caveats in the documentation: https://pandas.pydata.org/pandas-docs/stable/user_guide/indexing.html#returning-a-view-versus-a-copy\n",
      "  df_2['GDP per capita'] = df_2['country_text_id'].map(country_to_gdp)\n"
     ]
    },
    {
     "data": {
      "text/html": [
       "<div>\n",
       "<style scoped>\n",
       "    .dataframe tbody tr th:only-of-type {\n",
       "        vertical-align: middle;\n",
       "    }\n",
       "\n",
       "    .dataframe tbody tr th {\n",
       "        vertical-align: top;\n",
       "    }\n",
       "\n",
       "    .dataframe thead th {\n",
       "        text-align: right;\n",
       "    }\n",
       "</style>\n",
       "<table border=\"1\" class=\"dataframe\">\n",
       "  <thead>\n",
       "    <tr style=\"text-align: right;\">\n",
       "      <th></th>\n",
       "      <th>Country</th>\n",
       "      <th>country_text_id</th>\n",
       "      <th>year</th>\n",
       "      <th>Democracy</th>\n",
       "      <th>Distribution</th>\n",
       "      <th>Stability</th>\n",
       "      <th>Ownership</th>\n",
       "      <th>GDP per capita</th>\n",
       "    </tr>\n",
       "  </thead>\n",
       "  <tbody>\n",
       "    <tr>\n",
       "      <th>223</th>\n",
       "      <td>Mexico</td>\n",
       "      <td>MEX</td>\n",
       "      <td>2012</td>\n",
       "      <td>2.0</td>\n",
       "      <td>0.316</td>\n",
       "      <td>0.477</td>\n",
       "      <td>0.986</td>\n",
       "      <td>2.24713983020912</td>\n",
       "    </tr>\n",
       "    <tr>\n",
       "      <th>345</th>\n",
       "      <td>Suriname</td>\n",
       "      <td>SUR</td>\n",
       "      <td>2012</td>\n",
       "      <td>2.0</td>\n",
       "      <td>0.707</td>\n",
       "      <td>-0.473</td>\n",
       "      <td>0.012</td>\n",
       "      <td>1.53869362118127</td>\n",
       "    </tr>\n",
       "    <tr>\n",
       "      <th>578</th>\n",
       "      <td>Sweden</td>\n",
       "      <td>SWE</td>\n",
       "      <td>2012</td>\n",
       "      <td>3.0</td>\n",
       "      <td>0.959</td>\n",
       "      <td>1.908</td>\n",
       "      <td>1.586</td>\n",
       "      <td>-1.32100232444557</td>\n",
       "    </tr>\n",
       "    <tr>\n",
       "      <th>802</th>\n",
       "      <td>Switzerland</td>\n",
       "      <td>CHE</td>\n",
       "      <td>2012</td>\n",
       "      <td>3.0</td>\n",
       "      <td>0.970</td>\n",
       "      <td>1.658</td>\n",
       "      <td>2.333</td>\n",
       "      <td>0.148135706748036</td>\n",
       "    </tr>\n",
       "    <tr>\n",
       "      <th>922</th>\n",
       "      <td>Ghana</td>\n",
       "      <td>GHA</td>\n",
       "      <td>2012</td>\n",
       "      <td>3.0</td>\n",
       "      <td>0.537</td>\n",
       "      <td>0.128</td>\n",
       "      <td>1.369</td>\n",
       "      <td>6.73355567711647</td>\n",
       "    </tr>\n",
       "  </tbody>\n",
       "</table>\n",
       "</div>"
      ],
      "text/plain": [
       "         Country country_text_id  year  Democracy  Distribution  Stability  \\\n",
       "223       Mexico             MEX  2012        2.0         0.316      0.477   \n",
       "345     Suriname             SUR  2012        2.0         0.707     -0.473   \n",
       "578       Sweden             SWE  2012        3.0         0.959      1.908   \n",
       "802  Switzerland             CHE  2012        3.0         0.970      1.658   \n",
       "922        Ghana             GHA  2012        3.0         0.537      0.128   \n",
       "\n",
       "     Ownership     GDP per capita  \n",
       "223      0.986   2.24713983020912  \n",
       "345      0.012   1.53869362118127  \n",
       "578      1.586  -1.32100232444557  \n",
       "802      2.333  0.148135706748036  \n",
       "922      1.369   6.73355567711647  "
      ]
     },
     "execution_count": 12,
     "metadata": {},
     "output_type": "execute_result"
    }
   ],
   "source": [
    "df_2 = df[df['year'] == 2012]\n",
    "# adding 2012 to the 2012 year dataset\n",
    "country_to_gdp = dict(zip(df_gdp['Country Code'], df_gdp[2012]))\n",
    "df_2['GDP per capita'] = df_2['country_text_id'].map(country_to_gdp)\n",
    "df_2.head()"
   ]
  },
  {
   "cell_type": "code",
   "execution_count": 13,
   "id": "e0c9a9eb",
   "metadata": {},
   "outputs": [
    {
     "name": "stderr",
     "output_type": "stream",
     "text": [
      "C:\\Users\\russu_anastasiia\\AppData\\Local\\Temp\\ipykernel_11024\\1899291894.py:4: SettingWithCopyWarning: \n",
      "A value is trying to be set on a copy of a slice from a DataFrame.\n",
      "Try using .loc[row_indexer,col_indexer] = value instead\n",
      "\n",
      "See the caveats in the documentation: https://pandas.pydata.org/pandas-docs/stable/user_guide/indexing.html#returning-a-view-versus-a-copy\n",
      "  df_3['GDP per capita'] = df_3['country_text_id'].map(country_to_gdp)\n"
     ]
    },
    {
     "data": {
      "text/html": [
       "<div>\n",
       "<style scoped>\n",
       "    .dataframe tbody tr th:only-of-type {\n",
       "        vertical-align: middle;\n",
       "    }\n",
       "\n",
       "    .dataframe tbody tr th {\n",
       "        vertical-align: top;\n",
       "    }\n",
       "\n",
       "    .dataframe thead th {\n",
       "        text-align: right;\n",
       "    }\n",
       "</style>\n",
       "<table border=\"1\" class=\"dataframe\">\n",
       "  <thead>\n",
       "    <tr style=\"text-align: right;\">\n",
       "      <th></th>\n",
       "      <th>Country</th>\n",
       "      <th>country_text_id</th>\n",
       "      <th>year</th>\n",
       "      <th>Democracy</th>\n",
       "      <th>Distribution</th>\n",
       "      <th>Stability</th>\n",
       "      <th>Ownership</th>\n",
       "      <th>GDP per capita</th>\n",
       "    </tr>\n",
       "  </thead>\n",
       "  <tbody>\n",
       "    <tr>\n",
       "      <th>230</th>\n",
       "      <td>Mexico</td>\n",
       "      <td>MEX</td>\n",
       "      <td>2019</td>\n",
       "      <td>2.0</td>\n",
       "      <td>0.360</td>\n",
       "      <td>0.104</td>\n",
       "      <td>0.938</td>\n",
       "      <td>-1.26932197948273</td>\n",
       "    </tr>\n",
       "    <tr>\n",
       "      <th>352</th>\n",
       "      <td>Suriname</td>\n",
       "      <td>SUR</td>\n",
       "      <td>2019</td>\n",
       "      <td>2.0</td>\n",
       "      <td>0.701</td>\n",
       "      <td>-0.680</td>\n",
       "      <td>-0.331</td>\n",
       "      <td>0.163586537511492</td>\n",
       "    </tr>\n",
       "    <tr>\n",
       "      <th>585</th>\n",
       "      <td>Sweden</td>\n",
       "      <td>SWE</td>\n",
       "      <td>2019</td>\n",
       "      <td>3.0</td>\n",
       "      <td>0.888</td>\n",
       "      <td>1.802</td>\n",
       "      <td>1.466</td>\n",
       "      <td>0.957561656419784</td>\n",
       "    </tr>\n",
       "    <tr>\n",
       "      <th>809</th>\n",
       "      <td>Switzerland</td>\n",
       "      <td>CHE</td>\n",
       "      <td>2019</td>\n",
       "      <td>3.0</td>\n",
       "      <td>0.970</td>\n",
       "      <td>1.665</td>\n",
       "      <td>2.333</td>\n",
       "      <td>0.491609144873692</td>\n",
       "    </tr>\n",
       "    <tr>\n",
       "      <th>929</th>\n",
       "      <td>Ghana</td>\n",
       "      <td>GHA</td>\n",
       "      <td>2019</td>\n",
       "      <td>3.0</td>\n",
       "      <td>0.568</td>\n",
       "      <td>-0.111</td>\n",
       "      <td>1.547</td>\n",
       "      <td>4.22918126352458</td>\n",
       "    </tr>\n",
       "  </tbody>\n",
       "</table>\n",
       "</div>"
      ],
      "text/plain": [
       "         Country country_text_id  year  Democracy  Distribution  Stability  \\\n",
       "230       Mexico             MEX  2019        2.0         0.360      0.104   \n",
       "352     Suriname             SUR  2019        2.0         0.701     -0.680   \n",
       "585       Sweden             SWE  2019        3.0         0.888      1.802   \n",
       "809  Switzerland             CHE  2019        3.0         0.970      1.665   \n",
       "929        Ghana             GHA  2019        3.0         0.568     -0.111   \n",
       "\n",
       "     Ownership     GDP per capita  \n",
       "230      0.938  -1.26932197948273  \n",
       "352     -0.331  0.163586537511492  \n",
       "585      1.466  0.957561656419784  \n",
       "809      2.333  0.491609144873692  \n",
       "929      1.547   4.22918126352458  "
      ]
     },
     "execution_count": 13,
     "metadata": {},
     "output_type": "execute_result"
    }
   ],
   "source": [
    "# adding 2019 GDP to the 2019 year dataset\n",
    "df_3 = df[df['year'] == 2019]\n",
    "country_to_gdp = dict(zip(df_gdp['Country Code'], df_gdp[2019]))\n",
    "df_3['GDP per capita'] = df_3['country_text_id'].map(country_to_gdp)\n",
    "df_3.head()"
   ]
  },
  {
   "cell_type": "code",
   "execution_count": 14,
   "id": "b178c028",
   "metadata": {},
   "outputs": [
    {
     "data": {
      "text/plain": [
       "Country             object\n",
       "country_text_id     object\n",
       "year                 int64\n",
       "Democracy          float64\n",
       "Distribution       float64\n",
       "Stability          float64\n",
       "Ownership          float64\n",
       "GDP per capita      object\n",
       "dtype: object"
      ]
     },
     "execution_count": 14,
     "metadata": {},
     "output_type": "execute_result"
    }
   ],
   "source": [
    "#unite 2000, 2012 and 2019 year to one dataset\n",
    "df_final = pd.concat([df_1, df_2, df_3])\n",
    "df_final.dtypes"
   ]
  },
  {
   "cell_type": "code",
   "execution_count": 15,
   "id": "7c3f1814",
   "metadata": {},
   "outputs": [],
   "source": [
    "#GDP per capita convert to float\n",
    "df_final['GDP per capita'] = df_final['GDP per capita'].astype(float)"
   ]
  },
  {
   "cell_type": "code",
   "execution_count": 16,
   "id": "8319d4ae",
   "metadata": {},
   "outputs": [
    {
     "data": {
      "text/plain": [
       "Country             object\n",
       "country_text_id     object\n",
       "year                 int64\n",
       "Democracy          float64\n",
       "Distribution       float64\n",
       "Stability          float64\n",
       "Ownership          float64\n",
       "GDP per capita     float64\n",
       "dtype: object"
      ]
     },
     "execution_count": 16,
     "metadata": {},
     "output_type": "execute_result"
    }
   ],
   "source": [
    "df_final.dtypes"
   ]
  },
  {
   "cell_type": "code",
   "execution_count": 17,
   "id": "90211185",
   "metadata": {},
   "outputs": [
    {
     "data": {
      "text/html": [
       "<div>\n",
       "<style scoped>\n",
       "    .dataframe tbody tr th:only-of-type {\n",
       "        vertical-align: middle;\n",
       "    }\n",
       "\n",
       "    .dataframe tbody tr th {\n",
       "        vertical-align: top;\n",
       "    }\n",
       "\n",
       "    .dataframe thead th {\n",
       "        text-align: right;\n",
       "    }\n",
       "</style>\n",
       "<table border=\"1\" class=\"dataframe\">\n",
       "  <thead>\n",
       "    <tr style=\"text-align: right;\">\n",
       "      <th></th>\n",
       "      <th>Country</th>\n",
       "      <th>country_text_id</th>\n",
       "      <th>year</th>\n",
       "      <th>Democracy</th>\n",
       "      <th>Distribution</th>\n",
       "      <th>Stability</th>\n",
       "      <th>Ownership</th>\n",
       "      <th>GDP per capita</th>\n",
       "    </tr>\n",
       "  </thead>\n",
       "  <tbody>\n",
       "    <tr>\n",
       "      <th>211</th>\n",
       "      <td>Mexico</td>\n",
       "      <td>MEX</td>\n",
       "      <td>2000</td>\n",
       "      <td>2.0</td>\n",
       "      <td>0.307</td>\n",
       "      <td>0.254</td>\n",
       "      <td>0.965</td>\n",
       "      <td>3.440976</td>\n",
       "    </tr>\n",
       "    <tr>\n",
       "      <th>333</th>\n",
       "      <td>Suriname</td>\n",
       "      <td>SUR</td>\n",
       "      <td>2000</td>\n",
       "      <td>2.0</td>\n",
       "      <td>0.661</td>\n",
       "      <td>-0.571</td>\n",
       "      <td>0.012</td>\n",
       "      <td>0.893731</td>\n",
       "    </tr>\n",
       "    <tr>\n",
       "      <th>566</th>\n",
       "      <td>Sweden</td>\n",
       "      <td>SWE</td>\n",
       "      <td>2000</td>\n",
       "      <td>3.0</td>\n",
       "      <td>0.967</td>\n",
       "      <td>1.405</td>\n",
       "      <td>1.586</td>\n",
       "      <td>4.598255</td>\n",
       "    </tr>\n",
       "    <tr>\n",
       "      <th>790</th>\n",
       "      <td>Switzerland</td>\n",
       "      <td>CHE</td>\n",
       "      <td>2000</td>\n",
       "      <td>3.0</td>\n",
       "      <td>0.970</td>\n",
       "      <td>1.859</td>\n",
       "      <td>1.889</td>\n",
       "      <td>3.393748</td>\n",
       "    </tr>\n",
       "    <tr>\n",
       "      <th>910</th>\n",
       "      <td>Ghana</td>\n",
       "      <td>GHA</td>\n",
       "      <td>2000</td>\n",
       "      <td>2.0</td>\n",
       "      <td>0.416</td>\n",
       "      <td>-0.067</td>\n",
       "      <td>1.000</td>\n",
       "      <td>1.190821</td>\n",
       "    </tr>\n",
       "    <tr>\n",
       "      <th>...</th>\n",
       "      <td>...</td>\n",
       "      <td>...</td>\n",
       "      <td>...</td>\n",
       "      <td>...</td>\n",
       "      <td>...</td>\n",
       "      <td>...</td>\n",
       "      <td>...</td>\n",
       "      <td>...</td>\n",
       "    </tr>\n",
       "    <tr>\n",
       "      <th>25253</th>\n",
       "      <td>Slovenia</td>\n",
       "      <td>SVN</td>\n",
       "      <td>2019</td>\n",
       "      <td>3.0</td>\n",
       "      <td>0.924</td>\n",
       "      <td>1.009</td>\n",
       "      <td>0.916</td>\n",
       "      <td>NaN</td>\n",
       "    </tr>\n",
       "    <tr>\n",
       "      <th>25375</th>\n",
       "      <td>Solomon Islands</td>\n",
       "      <td>SLB</td>\n",
       "      <td>2019</td>\n",
       "      <td>2.0</td>\n",
       "      <td>0.190</td>\n",
       "      <td>-0.832</td>\n",
       "      <td>0.893</td>\n",
       "      <td>-1.358803</td>\n",
       "    </tr>\n",
       "    <tr>\n",
       "      <th>25497</th>\n",
       "      <td>Vanuatu</td>\n",
       "      <td>VUT</td>\n",
       "      <td>2019</td>\n",
       "      <td>2.0</td>\n",
       "      <td>0.763</td>\n",
       "      <td>-0.461</td>\n",
       "      <td>0.855</td>\n",
       "      <td>0.760014</td>\n",
       "    </tr>\n",
       "    <tr>\n",
       "      <th>25548</th>\n",
       "      <td>United Arab Emirates</td>\n",
       "      <td>ARE</td>\n",
       "      <td>2019</td>\n",
       "      <td>0.0</td>\n",
       "      <td>0.876</td>\n",
       "      <td>0.979</td>\n",
       "      <td>-0.636</td>\n",
       "      <td>NaN</td>\n",
       "    </tr>\n",
       "    <tr>\n",
       "      <th>25812</th>\n",
       "      <td>Hungary</td>\n",
       "      <td>HUN</td>\n",
       "      <td>2019</td>\n",
       "      <td>1.0</td>\n",
       "      <td>0.643</td>\n",
       "      <td>0.604</td>\n",
       "      <td>-0.241</td>\n",
       "      <td>NaN</td>\n",
       "    </tr>\n",
       "  </tbody>\n",
       "</table>\n",
       "<p>524 rows × 8 columns</p>\n",
       "</div>"
      ],
      "text/plain": [
       "                    Country country_text_id  year  Democracy  Distribution  \\\n",
       "211                  Mexico             MEX  2000        2.0         0.307   \n",
       "333                Suriname             SUR  2000        2.0         0.661   \n",
       "566                  Sweden             SWE  2000        3.0         0.967   \n",
       "790             Switzerland             CHE  2000        3.0         0.970   \n",
       "910                   Ghana             GHA  2000        2.0         0.416   \n",
       "...                     ...             ...   ...        ...           ...   \n",
       "25253              Slovenia             SVN  2019        3.0         0.924   \n",
       "25375       Solomon Islands             SLB  2019        2.0         0.190   \n",
       "25497               Vanuatu             VUT  2019        2.0         0.763   \n",
       "25548  United Arab Emirates             ARE  2019        0.0         0.876   \n",
       "25812               Hungary             HUN  2019        1.0         0.643   \n",
       "\n",
       "       Stability  Ownership  GDP per capita  \n",
       "211        0.254      0.965        3.440976  \n",
       "333       -0.571      0.012        0.893731  \n",
       "566        1.405      1.586        4.598255  \n",
       "790        1.859      1.889        3.393748  \n",
       "910       -0.067      1.000        1.190821  \n",
       "...          ...        ...             ...  \n",
       "25253      1.009      0.916             NaN  \n",
       "25375     -0.832      0.893       -1.358803  \n",
       "25497     -0.461      0.855        0.760014  \n",
       "25548      0.979     -0.636             NaN  \n",
       "25812      0.604     -0.241             NaN  \n",
       "\n",
       "[524 rows x 8 columns]"
      ]
     },
     "execution_count": 17,
     "metadata": {},
     "output_type": "execute_result"
    }
   ],
   "source": [
    "df_final"
   ]
  },
  {
   "cell_type": "markdown",
   "id": "0d4c6d04",
   "metadata": {},
   "source": [
    "# 2000 year"
   ]
  },
  {
   "cell_type": "markdown",
   "id": "0de2beda",
   "metadata": {},
   "source": [
    "# Hypothesis 1. GDP per capita across different democracy groups is the same.  "
   ]
  },
  {
   "cell_type": "code",
   "execution_count": 18,
   "id": "50604efc",
   "metadata": {},
   "outputs": [],
   "source": [
    "df_1 = df_final[df_final['year'] == 2000]\n",
    "df_1 = df_1.dropna()"
   ]
  },
  {
   "cell_type": "code",
   "execution_count": 19,
   "id": "c4efc7fb",
   "metadata": {},
   "outputs": [
    {
     "data": {
      "text/html": [
       "<div>\n",
       "<style scoped>\n",
       "    .dataframe tbody tr th:only-of-type {\n",
       "        vertical-align: middle;\n",
       "    }\n",
       "\n",
       "    .dataframe tbody tr th {\n",
       "        vertical-align: top;\n",
       "    }\n",
       "\n",
       "    .dataframe thead th {\n",
       "        text-align: right;\n",
       "    }\n",
       "</style>\n",
       "<table border=\"1\" class=\"dataframe\">\n",
       "  <thead>\n",
       "    <tr style=\"text-align: right;\">\n",
       "      <th></th>\n",
       "      <th>Country</th>\n",
       "      <th>country_text_id</th>\n",
       "      <th>year</th>\n",
       "      <th>Democracy</th>\n",
       "      <th>Distribution</th>\n",
       "      <th>Stability</th>\n",
       "      <th>Ownership</th>\n",
       "      <th>GDP per capita</th>\n",
       "    </tr>\n",
       "  </thead>\n",
       "  <tbody>\n",
       "    <tr>\n",
       "      <th>211</th>\n",
       "      <td>Mexico</td>\n",
       "      <td>MEX</td>\n",
       "      <td>2000</td>\n",
       "      <td>2.0</td>\n",
       "      <td>0.307</td>\n",
       "      <td>0.254</td>\n",
       "      <td>0.965</td>\n",
       "      <td>3.440976</td>\n",
       "    </tr>\n",
       "    <tr>\n",
       "      <th>333</th>\n",
       "      <td>Suriname</td>\n",
       "      <td>SUR</td>\n",
       "      <td>2000</td>\n",
       "      <td>2.0</td>\n",
       "      <td>0.661</td>\n",
       "      <td>-0.571</td>\n",
       "      <td>0.012</td>\n",
       "      <td>0.893731</td>\n",
       "    </tr>\n",
       "    <tr>\n",
       "      <th>566</th>\n",
       "      <td>Sweden</td>\n",
       "      <td>SWE</td>\n",
       "      <td>2000</td>\n",
       "      <td>3.0</td>\n",
       "      <td>0.967</td>\n",
       "      <td>1.405</td>\n",
       "      <td>1.586</td>\n",
       "      <td>4.598255</td>\n",
       "    </tr>\n",
       "    <tr>\n",
       "      <th>790</th>\n",
       "      <td>Switzerland</td>\n",
       "      <td>CHE</td>\n",
       "      <td>2000</td>\n",
       "      <td>3.0</td>\n",
       "      <td>0.970</td>\n",
       "      <td>1.859</td>\n",
       "      <td>1.889</td>\n",
       "      <td>3.393748</td>\n",
       "    </tr>\n",
       "    <tr>\n",
       "      <th>910</th>\n",
       "      <td>Ghana</td>\n",
       "      <td>GHA</td>\n",
       "      <td>2000</td>\n",
       "      <td>2.0</td>\n",
       "      <td>0.416</td>\n",
       "      <td>-0.067</td>\n",
       "      <td>1.000</td>\n",
       "      <td>1.190821</td>\n",
       "    </tr>\n",
       "    <tr>\n",
       "      <th>...</th>\n",
       "      <td>...</td>\n",
       "      <td>...</td>\n",
       "      <td>...</td>\n",
       "      <td>...</td>\n",
       "      <td>...</td>\n",
       "      <td>...</td>\n",
       "      <td>...</td>\n",
       "      <td>...</td>\n",
       "    </tr>\n",
       "    <tr>\n",
       "      <th>24675</th>\n",
       "      <td>Saudi Arabia</td>\n",
       "      <td>SAU</td>\n",
       "      <td>2000</td>\n",
       "      <td>0.0</td>\n",
       "      <td>0.670</td>\n",
       "      <td>-0.103</td>\n",
       "      <td>-1.278</td>\n",
       "      <td>3.226493</td>\n",
       "    </tr>\n",
       "    <tr>\n",
       "      <th>25011</th>\n",
       "      <td>Seychelles</td>\n",
       "      <td>SYC</td>\n",
       "      <td>2000</td>\n",
       "      <td>1.0</td>\n",
       "      <td>0.888</td>\n",
       "      <td>-0.806</td>\n",
       "      <td>-0.365</td>\n",
       "      <td>0.612195</td>\n",
       "    </tr>\n",
       "    <tr>\n",
       "      <th>25166</th>\n",
       "      <td>Singapore</td>\n",
       "      <td>SGP</td>\n",
       "      <td>2000</td>\n",
       "      <td>1.0</td>\n",
       "      <td>0.939</td>\n",
       "      <td>2.142</td>\n",
       "      <td>-0.784</td>\n",
       "      <td>7.165988</td>\n",
       "    </tr>\n",
       "    <tr>\n",
       "      <th>25356</th>\n",
       "      <td>Solomon Islands</td>\n",
       "      <td>SLB</td>\n",
       "      <td>2000</td>\n",
       "      <td>1.0</td>\n",
       "      <td>0.234</td>\n",
       "      <td>-1.390</td>\n",
       "      <td>0.893</td>\n",
       "      <td>-16.577196</td>\n",
       "    </tr>\n",
       "    <tr>\n",
       "      <th>25478</th>\n",
       "      <td>Vanuatu</td>\n",
       "      <td>VUT</td>\n",
       "      <td>2000</td>\n",
       "      <td>2.0</td>\n",
       "      <td>0.712</td>\n",
       "      <td>-0.426</td>\n",
       "      <td>0.855</td>\n",
       "      <td>3.803037</td>\n",
       "    </tr>\n",
       "  </tbody>\n",
       "</table>\n",
       "<p>128 rows × 8 columns</p>\n",
       "</div>"
      ],
      "text/plain": [
       "               Country country_text_id  year  Democracy  Distribution  \\\n",
       "211             Mexico             MEX  2000        2.0         0.307   \n",
       "333           Suriname             SUR  2000        2.0         0.661   \n",
       "566             Sweden             SWE  2000        3.0         0.967   \n",
       "790        Switzerland             CHE  2000        3.0         0.970   \n",
       "910              Ghana             GHA  2000        2.0         0.416   \n",
       "...                ...             ...   ...        ...           ...   \n",
       "24675     Saudi Arabia             SAU  2000        0.0         0.670   \n",
       "25011       Seychelles             SYC  2000        1.0         0.888   \n",
       "25166        Singapore             SGP  2000        1.0         0.939   \n",
       "25356  Solomon Islands             SLB  2000        1.0         0.234   \n",
       "25478          Vanuatu             VUT  2000        2.0         0.712   \n",
       "\n",
       "       Stability  Ownership  GDP per capita  \n",
       "211        0.254      0.965        3.440976  \n",
       "333       -0.571      0.012        0.893731  \n",
       "566        1.405      1.586        4.598255  \n",
       "790        1.859      1.889        3.393748  \n",
       "910       -0.067      1.000        1.190821  \n",
       "...          ...        ...             ...  \n",
       "24675     -0.103     -1.278        3.226493  \n",
       "25011     -0.806     -0.365        0.612195  \n",
       "25166      2.142     -0.784        7.165988  \n",
       "25356     -1.390      0.893      -16.577196  \n",
       "25478     -0.426      0.855        3.803037  \n",
       "\n",
       "[128 rows x 8 columns]"
      ]
     },
     "execution_count": 19,
     "metadata": {},
     "output_type": "execute_result"
    }
   ],
   "source": [
    "df_1"
   ]
  },
  {
   "cell_type": "code",
   "execution_count": 20,
   "id": "c783fb35",
   "metadata": {},
   "outputs": [
    {
     "name": "stdout",
     "output_type": "stream",
     "text": [
      "           year  Distribution  Stability  Ownership  GDP per capita\n",
      "Democracy                                                          \n",
      "0.0         0.0      0.254800   0.985572   1.013584        4.928335\n",
      "1.0         0.0      0.229550   0.708920   0.978763        5.279291\n",
      "2.0         0.0      0.236972   0.481275   0.606112        4.138399\n",
      "3.0         0.0      0.138404   0.514237   0.583215        2.112017\n",
      "           Country  country_text_id  year  Distribution  Stability  Ownership  \\\n",
      "Democracy                                                                       \n",
      "0.0             21               21    21            21         21         21   \n",
      "1.0             38               38    38            38         38         38   \n",
      "2.0             41               41    41            41         41         41   \n",
      "3.0             28               28    28            28         28         28   \n",
      "\n",
      "           GDP per capita  \n",
      "Democracy                  \n",
      "0.0                    21  \n",
      "1.0                    38  \n",
      "2.0                    41  \n",
      "3.0                    28  \n"
     ]
    }
   ],
   "source": [
    "\n",
    "print(df_1.groupby('Democracy').std())\n",
    "print(df_1.groupby('Democracy').count())\n"
   ]
  },
  {
   "cell_type": "markdown",
   "id": "a7259a6e",
   "metadata": {},
   "source": [
    "we can see that std is decrese with liberalization of regime: \n",
    "indicators for stability, distribution, ownership in autocracies(0) varies a lot more then for liberal democracies"
   ]
  },
  {
   "cell_type": "markdown",
   "id": "f9f08e2e",
   "metadata": {},
   "source": [
    "H0: the mean GDP per capita of the groups are the same. "
   ]
  },
  {
   "cell_type": "markdown",
   "id": "b221bf73",
   "metadata": {},
   "source": [
    "First, we need to check for the validity of its main assumptions:\n",
    "\n",
    "Independence of the observations - Independence is straightforward: all our observations come from different countries which we can consider as independent.\n",
    "\n",
    "Each sample has the same sample size - for 2000 year sample sizes are different and in group of closed authtocracy is less then 30 observations.\n",
    "\n",
    "Checking for the next assumptions are not nessecary as we already do not have same sample sizes\n",
    "Each sample has a normal distribution \n",
    "These distributions have the same variance (homoscedasticity)"
   ]
  },
  {
   "cell_type": "code",
   "execution_count": 21,
   "id": "2884a46a",
   "metadata": {},
   "outputs": [],
   "source": [
    "set(df_1.Democracy)\n",
    "democracies = [0, 1, 2, 3]"
   ]
  },
  {
   "cell_type": "code",
   "execution_count": 22,
   "id": "cf3156cb",
   "metadata": {},
   "outputs": [
    {
     "data": {
      "image/png": "[encoded data removed]",
      "text/plain": [
       "<Figure size 648x360 with 1 Axes>"
      ]
     },
     "metadata": {
      "needs_background": "light"
     },
     "output_type": "display_data"
    }
   ],
   "source": [
    "#plot graph to look at distribution\n",
    "plt.figure(figsize=(9,5))\n",
    "for dem in democracies:\n",
    "    plt.hist(df_1[df_1.Democracy==dem]['GDP per capita'],alpha=0.5,label=dem)\n",
    "    plt.axvline(np.median(df_1[df_1.Democracy==dem]['GDP per capita']))\n",
    "plt.xlabel('GDP per capita')\n",
    "plt.ylabel('Frequency')\n",
    "plt.legend()\n",
    "plt.show()"
   ]
  },
  {
   "cell_type": "markdown",
   "id": "9e6e1d0f",
   "metadata": {},
   "source": [
    "visually all four distributions are similar, means are close."
   ]
  },
  {
   "cell_type": "code",
   "execution_count": 23,
   "id": "54535831",
   "metadata": {},
   "outputs": [
    {
     "data": {
      "image/png": "[encoded data removed]",
      "text/plain": [
       "<Figure size 432x288 with 4 Axes>"
      ]
     },
     "metadata": {
      "needs_background": "light"
     },
     "output_type": "display_data"
    },
    {
     "data": {
      "image/png": "[encoded data removed]",
      "text/plain": [
       "<Figure size 720x504 with 1 Axes>"
      ]
     },
     "metadata": {
      "needs_background": "light"
     },
     "output_type": "display_data"
    }
   ],
   "source": [
    "fig, axs = plt.subplots(2, 2)\n",
    "data = [df_1[df_1.Democracy==0]['GDP per capita'], df_1[df_1.Democracy==1]['GDP per capita'], df_1[df_1.Democracy==2]['GDP per capita'], df_1[df_1.Democracy==3]['GDP per capita']] \n",
    "   \n",
    "fig = plt.figure(figsize =(10, 7)) \n",
    "   \n",
    "# Creating axes instance \n",
    "ax = fig.add_axes([0, 0, 1, 1]) \n",
    "   \n",
    "# Creating plot \n",
    "bp = ax.boxplot(data) \n",
    "# x-axis labels \n",
    "ax.set_xticklabels(['Closed authocracy', 'Electoral autocracy', ' Electoral democracy', 'Liberal democracy']) \n",
    "   \n",
    "# show plot \n",
    "plt.show() "
   ]
  },
  {
   "cell_type": "markdown",
   "id": "5662e7aa",
   "metadata": {},
   "source": [
    "on boxplots we can see that means visually quite similar."
   ]
  },
  {
   "cell_type": "code",
   "execution_count": 24,
   "id": "647b6551",
   "metadata": {},
   "outputs": [],
   "source": [
    "array_0 = df_1[df_1.Democracy==0]['GDP per capita']\n",
    "array_1 = df_1[df_1.Democracy==1]['GDP per capita']\n",
    "array_2 = df_1[df_1.Democracy==2]['GDP per capita']\n",
    "array_3 = df_1[df_1.Democracy==3]['GDP per capita']\n"
   ]
  },
  {
   "cell_type": "code",
   "execution_count": 25,
   "id": "ee67ac6b",
   "metadata": {},
   "outputs": [
    {
     "data": {
      "text/plain": [
       "KruskalResult(statistic=7.77926003856777, pvalue=0.05080097159875933)"
      ]
     },
     "execution_count": 25,
     "metadata": {},
     "output_type": "execute_result"
    }
   ],
   "source": [
    "stats.kruskal(array_0,array_1,array_2,array_3)"
   ]
  },
  {
   "cell_type": "markdown",
   "id": "75a505dd",
   "metadata": {},
   "source": [
    "p-value >> 0.05 (but very close) --> We cannot reject the null hypothesis that the population medians of all the groups are the same."
   ]
  },
  {
   "cell_type": "markdown",
   "id": "09bb6879",
   "metadata": {},
   "source": [
    "# Hypothesis 2. The level of democracy, equal distribution of resources, political stability, state ownership of economy correlates with economic growth of the country. \n",
    "Part  of  the  variables  are  continuous,  while  others  have  ordinal  scale.  It  makes  the  Spearman  correlation  most \n",
    "suitable method to test correlation between these variables.  \n",
    "H0: there is no monotonic relationship between the democracy and the GDP per capita in the population.  \n",
    "H0: there is no monotonic relationship between the equal distribution of resources and the GDP per capita in the \n",
    "population.  \n",
    "H0: there is no monotonic relationship between the political stability and the GDP per capita in the population. \n",
    "H0: there is no monotonic relationship between the state ownership and the GDP per capita in the population. "
   ]
  },
  {
   "cell_type": "code",
   "execution_count": 26,
   "id": "ccfee476",
   "metadata": {},
   "outputs": [],
   "source": [
    "#H0: there is no monotonic relationship between the democracy and the GDP per capita in the population.\n",
    "indicator_1 = 'GDP per capita'\n",
    "indicator_2 = 'Democracy'\n",
    "x = df_1[indicator_1]\n",
    "y = df_1[indicator_2]"
   ]
  },
  {
   "cell_type": "code",
   "execution_count": 27,
   "id": "d7b7f273",
   "metadata": {},
   "outputs": [
    {
     "data": {
      "image/png": "[encoded data removed]",
      "text/plain": [
       "<Figure size 432x288 with 1 Axes>"
      ]
     },
     "metadata": {
      "needs_background": "light"
     },
     "output_type": "display_data"
    }
   ],
   "source": [
    "plt.plot(x,y,'o')\n",
    "plt.xlabel(indicator_1)\n",
    "plt.ylabel(indicator_2)\n",
    "plt.show()"
   ]
  },
  {
   "cell_type": "code",
   "execution_count": 28,
   "id": "d751b048",
   "metadata": {},
   "outputs": [
    {
     "data": {
      "text/plain": [
       "SpearmanrResult(correlation=0.10126357513835549, pvalue=0.25539026298242573)"
      ]
     },
     "execution_count": 28,
     "metadata": {},
     "output_type": "execute_result"
    }
   ],
   "source": [
    "stats.spearmanr(x,y)"
   ]
  },
  {
   "cell_type": "markdown",
   "id": "a870f4ee",
   "metadata": {},
   "source": [
    "p value 0.26 is more then 0.05, and we cannot reject null hypothesis. There is no monotonic correlation between democracy and GDP per capita"
   ]
  },
  {
   "cell_type": "markdown",
   "id": "dac1a577",
   "metadata": {},
   "source": [
    "there is no monotonic relationship between the equal distribution of resources and the GDP per capita in the population."
   ]
  },
  {
   "cell_type": "code",
   "execution_count": 29,
   "id": "badeb811",
   "metadata": {},
   "outputs": [],
   "source": [
    "indicator_1 = 'GDP per capita'\n",
    "indicator_2 = 'Distribution'\n",
    "x = df_1[indicator_1]\n",
    "y = df_1[indicator_2]"
   ]
  },
  {
   "cell_type": "code",
   "execution_count": 30,
   "id": "4566aaee",
   "metadata": {},
   "outputs": [
    {
     "data": {
      "image/png": "[encoded data removed]",
      "text/plain": [
       "<Figure size 432x288 with 1 Axes>"
      ]
     },
     "metadata": {
      "needs_background": "light"
     },
     "output_type": "display_data"
    }
   ],
   "source": [
    "plt.plot(x,y,'o')\n",
    "plt.xlabel(indicator_1)\n",
    "plt.ylabel(indicator_2)\n",
    "plt.show()"
   ]
  },
  {
   "cell_type": "code",
   "execution_count": 31,
   "id": "02e4d3bd",
   "metadata": {},
   "outputs": [
    {
     "data": {
      "text/plain": [
       "SpearmanrResult(correlation=0.37595135910902855, pvalue=1.2243022844407645e-05)"
      ]
     },
     "execution_count": 31,
     "metadata": {},
     "output_type": "execute_result"
    }
   ],
   "source": [
    "stats.spearmanr(x,y)"
   ]
  },
  {
   "cell_type": "markdown",
   "id": "260cfed2",
   "metadata": {},
   "source": [
    "p value is less then 0.05, and we can reject null hypothesis. There is a monotonic correlation (0.38) between equal distribution of resources and GDP per capita. "
   ]
  },
  {
   "cell_type": "code",
   "execution_count": 32,
   "id": "b2c2b9a2",
   "metadata": {},
   "outputs": [],
   "source": [
    "#H0: there is no monotonic relationship between the political stability and the GDP per capita in the population\n",
    "indicator_1 = 'GDP per capita'\n",
    "indicator_2 = 'Stability'\n",
    "x = df_1[indicator_1]\n",
    "y = df_1[indicator_2]"
   ]
  },
  {
   "cell_type": "code",
   "execution_count": 33,
   "id": "65ef46d7",
   "metadata": {},
   "outputs": [
    {
     "data": {
      "image/png": "[encoded data removed]",
      "text/plain": [
       "<Figure size 432x288 with 1 Axes>"
      ]
     },
     "metadata": {
      "needs_background": "light"
     },
     "output_type": "display_data"
    }
   ],
   "source": [
    "plt.plot(x,y,'o')\n",
    "plt.xlabel(indicator_1)\n",
    "plt.ylabel(indicator_2)\n",
    "plt.show()"
   ]
  },
  {
   "cell_type": "code",
   "execution_count": 34,
   "id": "c07e6608",
   "metadata": {},
   "outputs": [
    {
     "data": {
      "text/plain": [
       "SpearmanrResult(correlation=0.2483244039765075, pvalue=0.0047086090022654785)"
      ]
     },
     "execution_count": 34,
     "metadata": {},
     "output_type": "execute_result"
    }
   ],
   "source": [
    "stats.spearmanr(x,y)"
   ]
  },
  {
   "cell_type": "markdown",
   "id": "b9d945ad",
   "metadata": {},
   "source": [
    "p value 0.0047 is less then 0.05, and we can reject null hypothesis. There is monotonic correlation (0.25) between political stabiliity and GDP per capita"
   ]
  },
  {
   "cell_type": "code",
   "execution_count": 35,
   "id": "2f1ea389",
   "metadata": {},
   "outputs": [],
   "source": [
    "#H0: there is no monotonic relationship between the state ownership and the GDP per capita in the population.\n",
    "indicator_1 = 'GDP per capita'\n",
    "indicator_2 = 'Ownership'\n",
    "x = df_1[indicator_1]\n",
    "y = df_1[indicator_2]"
   ]
  },
  {
   "cell_type": "code",
   "execution_count": 36,
   "id": "4659a40a",
   "metadata": {},
   "outputs": [
    {
     "data": {
      "image/png": "[encoded data removed]",
      "text/plain": [
       "<Figure size 432x288 with 1 Axes>"
      ]
     },
     "metadata": {
      "needs_background": "light"
     },
     "output_type": "display_data"
    }
   ],
   "source": [
    "plt.plot(x,y,'o')\n",
    "plt.xlabel(indicator_1)\n",
    "plt.ylabel(indicator_2)\n",
    "plt.show()"
   ]
  },
  {
   "cell_type": "code",
   "execution_count": 37,
   "id": "cecfc2c6",
   "metadata": {},
   "outputs": [
    {
     "data": {
      "text/plain": [
       "SpearmanrResult(correlation=-0.0659052022602936, pvalue=0.459833009152704)"
      ]
     },
     "execution_count": 37,
     "metadata": {},
     "output_type": "execute_result"
    }
   ],
   "source": [
    "stats.spearmanr(x,y)"
   ]
  },
  {
   "cell_type": "markdown",
   "id": "6591746c",
   "metadata": {},
   "source": [
    "p value 0.46 is more then 0.05, and we cannot reject null hypothesis. There is no monotonic correlation between state ownership of economy and GDP per capita"
   ]
  },
  {
   "cell_type": "markdown",
   "id": "40cd8ddb",
   "metadata": {},
   "source": [
    "#  What factors, connected with democracy, affect economic growth the most?\n",
    "H0: beta coefficient is equal to zero\n",
    "\n",
    "method: linear regression"
   ]
  },
  {
   "cell_type": "code",
   "execution_count": 38,
   "id": "2cab74b0",
   "metadata": {},
   "outputs": [],
   "source": [
    "#variables for linear regression\n",
    "target = 'GDP per capita'\n",
    "input_vars = ['Democracy',\n",
    "            'Distribution', \n",
    "              'Stability', \n",
    "              'Ownership'\n",
    "            ]"
   ]
  },
  {
   "cell_type": "code",
   "execution_count": 39,
   "id": "03ab4d4d",
   "metadata": {},
   "outputs": [
    {
     "data": {
      "text/plain": [
       "array([['Mexico', 'MEX', 2000, ..., 0.254, 0.965, 3.4409763287365],\n",
       "       ['Suriname', 'SUR', 2000, ..., -0.571, 0.012, 0.893731469048191],\n",
       "       ['Sweden', 'SWE', 2000, ..., 1.405, 1.586, 4.59825479417304],\n",
       "       ...,\n",
       "       ['Singapore', 'SGP', 2000, ..., 2.142, -0.784, 7.16598820156491],\n",
       "       ['Solomon Islands', 'SLB', 2000, ..., -1.39, 0.893,\n",
       "        -16.5771960073575],\n",
       "       ['Vanuatu', 'VUT', 2000, ..., -0.426, 0.855, 3.80303715737882]],\n",
       "      dtype=object)"
      ]
     },
     "execution_count": 39,
     "metadata": {},
     "output_type": "execute_result"
    }
   ],
   "source": [
    "np.asarray(df_1)"
   ]
  },
  {
   "cell_type": "code",
   "execution_count": 40,
   "id": "ac549f34",
   "metadata": {},
   "outputs": [
    {
     "data": {
      "text/plain": [
       "<AxesSubplot:>"
      ]
     },
     "execution_count": 40,
     "metadata": {},
     "output_type": "execute_result"
    },
    {
     "data": {
      "image/png": "[encoded data removed]",
      "text/plain": [
       "<Figure size 432x288 with 2 Axes>"
      ]
     },
     "metadata": {
      "needs_background": "light"
     },
     "output_type": "display_data"
    }
   ],
   "source": [
    "sns.heatmap(df_1[input_vars].corr(),annot=True)"
   ]
  },
  {
   "cell_type": "code",
   "execution_count": 41,
   "id": "8cab7cda",
   "metadata": {},
   "outputs": [],
   "source": [
    "X = df_1[input_vars]\n",
    "\n",
    "# For each X, calculate VIF and save in dataframe\n",
    "vif = pd.DataFrame()\n",
    "vif[\"features\"] = X.columns\n",
    "vif[\"VIF Factor\"] = [variance_inflation_factor(X.values, i) \n",
    "                     for i in range(X.shape[1])]"
   ]
  },
  {
   "cell_type": "code",
   "execution_count": 42,
   "id": "58b99de6",
   "metadata": {},
   "outputs": [
    {
     "data": {
      "text/html": [
       "<div>\n",
       "<style scoped>\n",
       "    .dataframe tbody tr th:only-of-type {\n",
       "        vertical-align: middle;\n",
       "    }\n",
       "\n",
       "    .dataframe tbody tr th {\n",
       "        vertical-align: top;\n",
       "    }\n",
       "\n",
       "    .dataframe thead th {\n",
       "        text-align: right;\n",
       "    }\n",
       "</style>\n",
       "<table border=\"1\" class=\"dataframe\">\n",
       "  <thead>\n",
       "    <tr style=\"text-align: right;\">\n",
       "      <th></th>\n",
       "      <th>features</th>\n",
       "      <th>VIF Factor</th>\n",
       "    </tr>\n",
       "  </thead>\n",
       "  <tbody>\n",
       "    <tr>\n",
       "      <th>0</th>\n",
       "      <td>Democracy</td>\n",
       "      <td>7.074636</td>\n",
       "    </tr>\n",
       "    <tr>\n",
       "      <th>1</th>\n",
       "      <td>Distribution</td>\n",
       "      <td>4.728038</td>\n",
       "    </tr>\n",
       "    <tr>\n",
       "      <th>2</th>\n",
       "      <td>Stability</td>\n",
       "      <td>1.244210</td>\n",
       "    </tr>\n",
       "    <tr>\n",
       "      <th>3</th>\n",
       "      <td>Ownership</td>\n",
       "      <td>2.531657</td>\n",
       "    </tr>\n",
       "  </tbody>\n",
       "</table>\n",
       "</div>"
      ],
      "text/plain": [
       "       features  VIF Factor\n",
       "0     Democracy    7.074636\n",
       "1  Distribution    4.728038\n",
       "2     Stability    1.244210\n",
       "3     Ownership    2.531657"
      ]
     },
     "execution_count": 42,
     "metadata": {},
     "output_type": "execute_result"
    }
   ],
   "source": [
    "vif"
   ]
  },
  {
   "cell_type": "markdown",
   "id": "b5797f0f",
   "metadata": {},
   "source": [
    "VIF and graph show big multicollineary of variables. I will use subset selection to reduce the number of variables"
   ]
  },
  {
   "cell_type": "code",
   "execution_count": 43,
   "id": "9b80fad1",
   "metadata": {},
   "outputs": [],
   "source": [
    "var_combinations = []\n",
    "for n in range(len(input_vars) + 1):\n",
    "    combinations_length_n = list(combinations(input_vars, n))\n",
    "    for comb in combinations_length_n:\n",
    "        var_list = [x for x in comb]\n",
    "        var_combinations.append(var_list)"
   ]
  },
  {
   "cell_type": "code",
   "execution_count": 44,
   "id": "14ef52ba",
   "metadata": {},
   "outputs": [
    {
     "name": "stdout",
     "output_type": "stream",
     "text": [
      "[('Democracy', 'Distribution', 'Stability'), ('Democracy', 'Distribution', 'Ownership'), ('Democracy', 'Stability', 'Ownership'), ('Distribution', 'Stability', 'Ownership')]\n"
     ]
    }
   ],
   "source": [
    "n=3\n",
    "combinations_length_n = list(combinations(input_vars, n))\n",
    "print(combinations_length_n)"
   ]
  },
  {
   "cell_type": "code",
   "execution_count": 45,
   "id": "4749fcc6",
   "metadata": {
    "scrolled": true
   },
   "outputs": [
    {
     "data": {
      "text/plain": [
       "[[],\n",
       " ['Democracy'],\n",
       " ['Distribution'],\n",
       " ['Stability'],\n",
       " ['Ownership'],\n",
       " ['Democracy', 'Distribution'],\n",
       " ['Democracy', 'Stability'],\n",
       " ['Democracy', 'Ownership'],\n",
       " ['Distribution', 'Stability'],\n",
       " ['Distribution', 'Ownership'],\n",
       " ['Stability', 'Ownership'],\n",
       " ['Democracy', 'Distribution', 'Stability'],\n",
       " ['Democracy', 'Distribution', 'Ownership'],\n",
       " ['Democracy', 'Stability', 'Ownership'],\n",
       " ['Distribution', 'Stability', 'Ownership'],\n",
       " ['Democracy', 'Distribution', 'Stability', 'Ownership']]"
      ]
     },
     "execution_count": 45,
     "metadata": {},
     "output_type": "execute_result"
    }
   ],
   "source": [
    "var_combinations"
   ]
  },
  {
   "cell_type": "code",
   "execution_count": 46,
   "id": "e92fdc29",
   "metadata": {},
   "outputs": [
    {
     "name": "stdout",
     "output_type": "stream",
     "text": [
      "[] 2.220446049250313e-16\n",
      "['Democracy'] -0.002287285665865557\n",
      "['Distribution'] 0.10276778647912432\n",
      "['Stability'] 0.0375008985094305\n",
      "['Ownership'] 0.015065205200783138\n",
      "['Democracy', 'Distribution'] 0.10774854284166413\n",
      "['Democracy', 'Stability'] 0.0405277815443319\n",
      "['Democracy', 'Ownership'] 0.049004866475227615\n",
      "['Distribution', 'Stability'] 0.09694193540472917\n",
      "['Distribution', 'Ownership'] 0.1388377372583517\n",
      "['Stability', 'Ownership'] 0.1257093867688126\n",
      "['Democracy', 'Distribution', 'Stability'] 0.10142845106709986\n",
      "['Democracy', 'Distribution', 'Ownership'] 0.13221037081900688\n",
      "['Democracy', 'Stability', 'Ownership'] 0.11878287866722581\n",
      "['Distribution', 'Stability', 'Ownership'] 0.143605098445319\n",
      "['Democracy', 'Distribution', 'Stability', 'Ownership'] 0.13692102964432284\n"
     ]
    }
   ],
   "source": [
    "y = df_1[target]\n",
    "\n",
    "adj_rsquared_results = []\n",
    "for comb in var_combinations:\n",
    "    \n",
    "    X = df_1[comb]\n",
    "    X = sm.add_constant(X)\n",
    "    model = sm.OLS(y, X).fit()\n",
    "\n",
    "    print(comb,model.rsquared_adj)\n",
    "    adj_rsquared_results.append((model.rsquared_adj, comb))"
   ]
  },
  {
   "cell_type": "code",
   "execution_count": 47,
   "id": "a0ce46a0",
   "metadata": {},
   "outputs": [
    {
     "data": {
      "text/plain": [
       "[(0.143605098445319, ['Distribution', 'Stability', 'Ownership']),\n",
       " (0.1388377372583517, ['Distribution', 'Ownership']),\n",
       " (0.13692102964432284,\n",
       "  ['Democracy', 'Distribution', 'Stability', 'Ownership']),\n",
       " (0.13221037081900688, ['Democracy', 'Distribution', 'Ownership']),\n",
       " (0.1257093867688126, ['Stability', 'Ownership']),\n",
       " (0.11878287866722581, ['Democracy', 'Stability', 'Ownership']),\n",
       " (0.10774854284166413, ['Democracy', 'Distribution']),\n",
       " (0.10276778647912432, ['Distribution']),\n",
       " (0.10142845106709986, ['Democracy', 'Distribution', 'Stability']),\n",
       " (0.09694193540472917, ['Distribution', 'Stability']),\n",
       " (0.049004866475227615, ['Democracy', 'Ownership']),\n",
       " (0.0405277815443319, ['Democracy', 'Stability']),\n",
       " (0.0375008985094305, ['Stability']),\n",
       " (0.015065205200783138, ['Ownership']),\n",
       " (2.220446049250313e-16, []),\n",
       " (-0.002287285665865557, ['Democracy'])]"
      ]
     },
     "execution_count": 47,
     "metadata": {},
     "output_type": "execute_result"
    }
   ],
   "source": [
    "sorted(adj_rsquared_results, reverse= True)\n"
   ]
  },
  {
   "cell_type": "code",
   "execution_count": 48,
   "id": "44ec8757",
   "metadata": {},
   "outputs": [
    {
     "data": {
      "text/plain": [
       "(0.143605098445319, ['Distribution', 'Stability', 'Ownership'])"
      ]
     },
     "execution_count": 48,
     "metadata": {},
     "output_type": "execute_result"
    }
   ],
   "source": [
    "#the best model is with only one variable - dictribution, so I will use it in the linear regression\n",
    "max(adj_rsquared_results)"
   ]
  },
  {
   "cell_type": "code",
   "execution_count": 49,
   "id": "ab9e0ecc",
   "metadata": {},
   "outputs": [
    {
     "data": {
      "text/plain": [
       "['Distribution', 'Stability', 'Ownership']"
      ]
     },
     "execution_count": 49,
     "metadata": {},
     "output_type": "execute_result"
    }
   ],
   "source": [
    "selected_vars = max(adj_rsquared_results)[1]\n",
    "selected_vars"
   ]
  },
  {
   "cell_type": "code",
   "execution_count": 50,
   "id": "c5cf4971",
   "metadata": {},
   "outputs": [
    {
     "name": "stdout",
     "output_type": "stream",
     "text": [
      "                            OLS Regression Results                            \n",
      "==============================================================================\n",
      "Dep. Variable:         GDP per capita   R-squared:                       0.164\n",
      "Model:                            OLS   Adj. R-squared:                  0.144\n",
      "Method:                 Least Squares   F-statistic:                     8.099\n",
      "Date:                Mon, 02 Jan 2023   Prob (F-statistic):           5.72e-05\n",
      "Time:                        19:07:57   Log-Likelihood:                -358.18\n",
      "No. Observations:                 128   AIC:                             724.4\n",
      "Df Residuals:                     124   BIC:                             735.8\n",
      "Df Model:                           3                                         \n",
      "Covariance Type:            nonrobust                                         \n",
      "================================================================================\n",
      "                   coef    std err          t      P>|t|      [0.025      0.975]\n",
      "--------------------------------------------------------------------------------\n",
      "const            1.1231      1.316      0.854      0.395      -1.481       3.727\n",
      "Distribution     3.7631      1.980      1.901      0.060      -0.156       7.682\n",
      "Stability        0.8466      0.650      1.302      0.195      -0.440       2.133\n",
      "Ownership       -1.2771      0.457     -2.795      0.006      -2.181      -0.373\n",
      "==============================================================================\n",
      "Omnibus:                       14.861   Durbin-Watson:                   2.004\n",
      "Prob(Omnibus):                  0.001   Jarque-Bera (JB):               52.068\n",
      "Skew:                           0.101   Prob(JB):                     4.94e-12\n",
      "Kurtosis:                       6.118   Cond. No.                         10.4\n",
      "==============================================================================\n",
      "\n",
      "Notes:\n",
      "[1] Standard Errors assume that the covariance matrix of the errors is correctly specified.\n"
     ]
    }
   ],
   "source": [
    "# define the variables\n",
    "X = df_1[selected_vars]\n",
    "y = df_1[target]\n",
    "\n",
    "# add constant to predictor variables (i.e. the intercept)\n",
    "X = sm.add_constant(X)\n",
    "\n",
    "# fit linear regression model\n",
    "model_sm = sm.OLS(y, X).fit()\n",
    "\n",
    "# view model summary\n",
    "print(model_sm.summary())"
   ]
  },
  {
   "cell_type": "markdown",
   "id": "f85f47c9",
   "metadata": {},
   "source": [
    "All variables except Ownership is not significant. Adj. R-squared equals 0.144\n",
    "The share of the economy, controlled by state negatively contributes to the GDP growth of the country. \n",
    "\n",
    "All things being equal, a one full point in ownership score increase is associated with -1.3 unit decrease in GDP growth per capita."
   ]
  },
  {
   "cell_type": "code",
   "execution_count": 51,
   "id": "c872c967",
   "metadata": {},
   "outputs": [
    {
     "data": {
      "image/png": "[encoded data removed]",
      "text/plain": [
       "<Figure size 432x288 with 1 Axes>"
      ]
     },
     "metadata": {
      "needs_background": "light"
     },
     "output_type": "display_data"
    },
    {
     "data": {
      "image/png": "[encoded data removed]",
      "text/plain": [
       "<Figure size 432x288 with 1 Axes>"
      ]
     },
     "metadata": {
      "needs_background": "light"
     },
     "output_type": "display_data"
    },
    {
     "name": "stdout",
     "output_type": "stream",
     "text": [
      "94.53% of the points fall within (-2,2).\n"
     ]
    }
   ],
   "source": [
    "plt.hist(model_sm.resid_pearson)\n",
    "plt.xlabel('Standardized residuals')\n",
    "plt.ylabel('Frequency')\n",
    "plt.show()\n",
    "\n",
    "plt.plot(model_sm.fittedvalues, model_sm.resid_pearson, 'o', color='b')\n",
    "plt.axhline(-2, color='b', alpha=0.5)\n",
    "plt.axhline(2, color='b', alpha=0.5)\n",
    "plt.axhline(0, linestyle='--', color='b', alpha=0.5)\n",
    "plt.xlabel('Fitted values')\n",
    "plt.ylabel('Standard residuals')\n",
    "plt.show()\n",
    "\n",
    "print('%.2f%% of the points fall within (-2,2).'%(100*sum([1 for i in model_sm.resid_pearson if -2<i<2])/len(model_sm.resid_pearson)))"
   ]
  },
  {
   "cell_type": "markdown",
   "id": "347254bc",
   "metadata": {},
   "source": [
    "Residuals are distributed bell-shaped, and they are look homoscedastic."
   ]
  },
  {
   "cell_type": "markdown",
   "id": "5a5298e4",
   "metadata": {},
   "source": [
    "Conclusions\n",
    "for the 2000 year, \n",
    "1. the hypothesis 1 that GDP per capita across different democracy groups is the same cannot be rejected. \n",
    "2. we have  found  confirmation about the correlation between regime and growth of GDP: There is a monotonic correlation (0.38) between equal distribution of resources and GDP per capita, and (0.24) between political stabiliity and GDP per capita. \n",
    "3. For linear regression, we can see that Ownership of the state contributes negatively to the GDp per capita"
   ]
  },
  {
   "cell_type": "markdown",
   "id": "9631f7ca",
   "metadata": {},
   "source": [
    "# **2012 year**"
   ]
  },
  {
   "cell_type": "markdown",
   "id": "798abe93",
   "metadata": {},
   "source": [
    "Let's check the same hypotheses for the 2012"
   ]
  },
  {
   "cell_type": "markdown",
   "id": "dec65cd8",
   "metadata": {},
   "source": [
    "# Hypothesis 1. GDP per capita across different democracy groups is the same.  "
   ]
  },
  {
   "cell_type": "code",
   "execution_count": 52,
   "id": "0ff77268",
   "metadata": {},
   "outputs": [
    {
     "name": "stdout",
     "output_type": "stream",
     "text": [
      "           year  Distribution  Stability  Ownership  GDP per capita\n",
      "Democracy                                                          \n",
      "0.0         0.0      0.248089   0.817171   1.224984        3.032334\n",
      "1.0         0.0      0.237169   0.653339   0.955617        3.685233\n",
      "2.0         0.0      0.210284   0.526916   0.590763        3.360321\n",
      "3.0         0.0      0.137973   0.539784   0.658087        2.829939\n",
      "           Country  country_text_id  year  Distribution  Stability  Ownership  \\\n",
      "Democracy                                                                       \n",
      "0.0             10               10    10            10         10         10   \n",
      "1.0             46               46    46            46         46         46   \n",
      "2.0             41               41    41            41         41         41   \n",
      "3.0             31               31    31            31         31         31   \n",
      "\n",
      "           GDP per capita  \n",
      "Democracy                  \n",
      "0.0                    10  \n",
      "1.0                    46  \n",
      "2.0                    41  \n",
      "3.0                    31  \n"
     ]
    }
   ],
   "source": [
    "df_2 = df_final[df_final['year'] == 2012]\n",
    "df_2 = df_2.dropna()\n",
    "print(df_2.groupby('Democracy').std())\n",
    "print(df_2.groupby('Democracy').count())\n",
    "\n"
   ]
  },
  {
   "cell_type": "markdown",
   "id": "b74129cc",
   "metadata": {},
   "source": [
    "we can see that std is decrese with liberalization of regime: \n",
    "\n",
    "indicators for stability, ownership, distribution of resources in autocracies(0) varies a lot more then for liberal democracies"
   ]
  },
  {
   "cell_type": "markdown",
   "id": "b0f0a635",
   "metadata": {},
   "source": [
    "First, we need to check for the validity of its main assumptions:\n",
    "\n",
    "Independence of the observations - Independence is straightforward: all our observations come from different countries which we can consider as independent.\n",
    "\n",
    "Each sample has the same sample size - for 2012 year sample sized are different and in group of closed authtocracy is less then 30 observations.\n",
    "\n",
    "Checking for the next assumptions are not nessecary as we already do not have same sample sizes \n",
    "Each sample has a normal distribution \n",
    "These distributions have the same variance (homoscedasticity)"
   ]
  },
  {
   "cell_type": "markdown",
   "id": "9f2a292c",
   "metadata": {},
   "source": [
    " I will use Kruskai - Wallis"
   ]
  },
  {
   "cell_type": "code",
   "execution_count": 53,
   "id": "c7e57349",
   "metadata": {},
   "outputs": [
    {
     "data": {
      "image/png": "[encoded data removed]",
      "text/plain": [
       "<Figure size 648x360 with 1 Axes>"
      ]
     },
     "metadata": {
      "needs_background": "light"
     },
     "output_type": "display_data"
    }
   ],
   "source": [
    "set(df_2.Democracy)\n",
    "democracies = [0, 1, 2, 3]\n",
    "plt.figure(figsize=(9,5))\n",
    "for dem in democracies:\n",
    "    plt.hist(df_2[df_2.Democracy==dem]['GDP per capita'],alpha=0.5,label=dem)\n",
    "    plt.axvline(np.median(df_2[df_2.Democracy==dem]['GDP per capita']))\n",
    "plt.xlabel('GDP per capita')\n",
    "plt.ylabel('Frequency')\n",
    "plt.legend()\n",
    "plt.show()\n",
    "# we can see that means are quite close to each other"
   ]
  },
  {
   "cell_type": "markdown",
   "id": "74e75c4c",
   "metadata": {},
   "source": [
    "visually all four distributions are similar, means are visualy different"
   ]
  },
  {
   "cell_type": "code",
   "execution_count": 54,
   "id": "5c977508",
   "metadata": {},
   "outputs": [
    {
     "data": {
      "image/png": "[encoded data removed]",
      "text/plain": [
       "<Figure size 720x504 with 1 Axes>"
      ]
     },
     "metadata": {
      "needs_background": "light"
     },
     "output_type": "display_data"
    }
   ],
   "source": [
    "data = [df_2[df_2.Democracy==0]['GDP per capita'], df_2[df_2.Democracy==1]['GDP per capita'], df_2[df_2.Democracy==2]['GDP per capita'], df_2[df_2.Democracy==3]['GDP per capita']] \n",
    "   \n",
    "fig = plt.figure(figsize =(10, 7)) \n",
    "   \n",
    "# Creating axes instance \n",
    "ax = fig.add_axes([0, 0, 1, 1]) \n",
    "   \n",
    "# Creating plot \n",
    "bp = ax.boxplot(data) \n",
    "# x-axis labels \n",
    "ax.set_xticklabels(['Closed authocracy', 'Electoral autocracy', ' Electoral democracy', 'Liberal democracy']) \n",
    "   \n",
    "# show plot \n",
    "plt.show() \n",
    "#boxplot allow us to see variance of values, and means. "
   ]
  },
  {
   "cell_type": "markdown",
   "id": "b640a31e",
   "metadata": {},
   "source": [
    "visually boxplots show that means different, but variance of GDP is quite similar"
   ]
  },
  {
   "cell_type": "code",
   "execution_count": 55,
   "id": "f26743b3",
   "metadata": {},
   "outputs": [],
   "source": [
    "array_0 = df_2[df_2.Democracy==0]['GDP per capita']\n",
    "array_1 = df_2[df_2.Democracy==1]['GDP per capita']\n",
    "array_2 = df_2[df_2.Democracy==2]['GDP per capita']\n",
    "array_3 = df_2[df_2.Democracy==3]['GDP per capita']\n"
   ]
  },
  {
   "cell_type": "code",
   "execution_count": 56,
   "id": "f1b8749f",
   "metadata": {},
   "outputs": [
    {
     "data": {
      "text/plain": [
       "KruskalResult(statistic=14.735243652343343, pvalue=0.0020574659538203813)"
      ]
     },
     "execution_count": 56,
     "metadata": {},
     "output_type": "execute_result"
    }
   ],
   "source": [
    "stats.kruskal(array_0,array_1,array_2,array_3)"
   ]
  },
  {
   "cell_type": "code",
   "execution_count": 57,
   "id": "afda3fee",
   "metadata": {},
   "outputs": [
    {
     "name": "stdout",
     "output_type": "stream",
     "text": [
      "             year  Distribution  Stability  Ownership  GDP per capita\n",
      "Democracy                                                            \n",
      "0.0        2012.0        0.5125    -0.1620    -0.1805        1.785011\n",
      "1.0        2012.0        0.3420    -0.7825     0.3195        3.592248\n",
      "2.0        2012.0        0.5300    -0.1190     0.9590        2.981273\n",
      "3.0        2012.0        0.9350     1.2290     1.4590        0.230161\n"
     ]
    }
   ],
   "source": [
    "print(df_2.groupby('Democracy').median())"
   ]
  },
  {
   "cell_type": "code",
   "execution_count": null,
   "id": "a07601e7",
   "metadata": {},
   "outputs": [],
   "source": []
  },
  {
   "cell_type": "markdown",
   "id": "775c8793",
   "metadata": {},
   "source": [
    "null hypotesis can be rejected, p-value is 0.002< 0.05"
   ]
  },
  {
   "cell_type": "markdown",
   "id": "59e43bca",
   "metadata": {},
   "source": [
    " GDP per capita are not the same for the different regimes"
   ]
  },
  {
   "cell_type": "code",
   "execution_count": 70,
   "id": "fb0350d9",
   "metadata": {},
   "outputs": [
    {
     "data": {
      "text/plain": [
       "(1.78501086186037, 3.59224808537058, 2.98127287338662, 0.230160992711959)"
      ]
     },
     "execution_count": 70,
     "metadata": {},
     "output_type": "execute_result"
    }
   ],
   "source": [
    "np.median(array_0), np.median(array_1), np.median(array_2), np.median(array_3)"
   ]
  },
  {
   "cell_type": "code",
   "execution_count": 71,
   "id": "7b3c7570",
   "metadata": {},
   "outputs": [
    {
     "data": {
      "text/plain": [
       "KruskalResult(statistic=0.43981693363841146, pvalue=0.5072108269253821)"
      ]
     },
     "execution_count": 71,
     "metadata": {},
     "output_type": "execute_result"
    }
   ],
   "source": [
    "stats.kruskal(array_0,array_1)"
   ]
  },
  {
   "cell_type": "code",
   "execution_count": 72,
   "id": "df859b57",
   "metadata": {},
   "outputs": [
    {
     "data": {
      "text/plain": [
       "MannwhitneyuResult(statistic=199.0, pvalue=0.5140848712709818)"
      ]
     },
     "execution_count": 72,
     "metadata": {},
     "output_type": "execute_result"
    }
   ],
   "source": [
    "stats.mannwhitneyu(array_0,array_1)"
   ]
  },
  {
   "cell_type": "markdown",
   "id": "b01cffcb",
   "metadata": {},
   "source": [
    "--> We cannot reject the null hypothesis that GDP per capita in closed autocracy and electoral autocracy have the same median"
   ]
  },
  {
   "cell_type": "code",
   "execution_count": 73,
   "id": "0669b828",
   "metadata": {},
   "outputs": [
    {
     "data": {
      "text/plain": [
       "KruskalResult(statistic=0.18236397748592026, pvalue=0.6693494976480441)"
      ]
     },
     "execution_count": 73,
     "metadata": {},
     "output_type": "execute_result"
    }
   ],
   "source": [
    "stats.kruskal(array_0,array_2)"
   ]
  },
  {
   "cell_type": "code",
   "execution_count": 74,
   "id": "64245421",
   "metadata": {
    "scrolled": true
   },
   "outputs": [
    {
     "data": {
      "text/plain": [
       "MannwhitneyuResult(statistic=187.0, pvalue=0.6780110855249148)"
      ]
     },
     "execution_count": 74,
     "metadata": {},
     "output_type": "execute_result"
    }
   ],
   "source": [
    "stats.mannwhitneyu(array_0,array_2)"
   ]
  },
  {
   "cell_type": "markdown",
   "id": "791cfa6f",
   "metadata": {},
   "source": [
    "--> We cannot reject the null hypothesis that GDP per capita in closed autocracy and electoral democracy have the same median"
   ]
  },
  {
   "cell_type": "code",
   "execution_count": 75,
   "id": "43a6dda3",
   "metadata": {},
   "outputs": [
    {
     "data": {
      "text/plain": [
       "KruskalResult(statistic=3.5428571428571445, pvalue=0.05980236528230661)"
      ]
     },
     "execution_count": 75,
     "metadata": {},
     "output_type": "execute_result"
    }
   ],
   "source": [
    "stats.kruskal(array_0,array_3)"
   ]
  },
  {
   "cell_type": "code",
   "execution_count": 76,
   "id": "4668c486",
   "metadata": {
    "scrolled": true
   },
   "outputs": [
    {
     "data": {
      "text/plain": [
       "MannwhitneyuResult(statistic=217.0, pvalue=0.061892025740522494)"
      ]
     },
     "execution_count": 76,
     "metadata": {},
     "output_type": "execute_result"
    }
   ],
   "source": [
    "stats.mannwhitneyu(array_0,array_3)"
   ]
  },
  {
   "cell_type": "markdown",
   "id": "ce4853dd",
   "metadata": {},
   "source": [
    "--> We cannot reject the null hypothesis that GDP per capita in closed autocracy and liberal democracy have the same median"
   ]
  },
  {
   "cell_type": "code",
   "execution_count": 83,
   "id": "60d965eb",
   "metadata": {},
   "outputs": [
    {
     "data": {
      "text/plain": [
       "KruskalResult(statistic=0.3149522799575948, pvalue=0.5746570490867547)"
      ]
     },
     "execution_count": 83,
     "metadata": {},
     "output_type": "execute_result"
    }
   ],
   "source": [
    "stats.kruskal(array_1,array_2)"
   ]
  },
  {
   "cell_type": "code",
   "execution_count": 84,
   "id": "1503ab7e",
   "metadata": {
    "scrolled": true
   },
   "outputs": [
    {
     "data": {
      "text/plain": [
       "MannwhitneyuResult(statistic=1009.0, pvalue=0.5775584944550924)"
      ]
     },
     "execution_count": 84,
     "metadata": {},
     "output_type": "execute_result"
    }
   ],
   "source": [
    "stats.mannwhitneyu(array_1,array_2)"
   ]
  },
  {
   "cell_type": "markdown",
   "id": "278cc3e9",
   "metadata": {},
   "source": [
    "--> We cannot reject the null hypothesis that GDP per capita in elecoral autocracy and electoral democracy have the same median"
   ]
  },
  {
   "cell_type": "code",
   "execution_count": 79,
   "id": "98891ddc",
   "metadata": {},
   "outputs": [
    {
     "data": {
      "text/plain": [
       "KruskalResult(statistic=13.291725105189329, pvalue=0.000266580081237854)"
      ]
     },
     "execution_count": 79,
     "metadata": {},
     "output_type": "execute_result"
    }
   ],
   "source": [
    "stats.kruskal(array_1,array_3)"
   ]
  },
  {
   "cell_type": "code",
   "execution_count": 80,
   "id": "2074d6eb",
   "metadata": {
    "scrolled": true
   },
   "outputs": [
    {
     "data": {
      "text/plain": [
       "MannwhitneyuResult(statistic=1064.0, pvalue=0.0002720156901235071)"
      ]
     },
     "execution_count": 80,
     "metadata": {},
     "output_type": "execute_result"
    }
   ],
   "source": [
    "stats.mannwhitneyu(array_1,array_3)"
   ]
  },
  {
   "cell_type": "markdown",
   "id": "e5e2e84b",
   "metadata": {},
   "source": [
    "--> We can reject the null hypothesis that GDP per capita in elecoral autocracy and liberal democracy have the same median"
   ]
  },
  {
   "cell_type": "code",
   "execution_count": 81,
   "id": "0ab8e71b",
   "metadata": {},
   "outputs": [
    {
     "data": {
      "text/plain": [
       "KruskalResult(statistic=8.979953224189757, pvalue=0.002729576357941407)"
      ]
     },
     "execution_count": 81,
     "metadata": {},
     "output_type": "execute_result"
    }
   ],
   "source": [
    "stats.kruskal(array_2,array_3)"
   ]
  },
  {
   "cell_type": "code",
   "execution_count": 82,
   "id": "0a4255e4",
   "metadata": {
    "scrolled": true
   },
   "outputs": [
    {
     "data": {
      "text/plain": [
       "MannwhitneyuResult(statistic=899.0, pvalue=0.002780921275102037)"
      ]
     },
     "execution_count": 82,
     "metadata": {},
     "output_type": "execute_result"
    }
   ],
   "source": [
    "stats.mannwhitneyu(array_2,array_3)"
   ]
  },
  {
   "cell_type": "markdown",
   "id": "151375f4",
   "metadata": {},
   "source": [
    "--> We cannot reject the null hypothesis that GDP per capita in elecoral democracy and liberal democracy have the same median"
   ]
  },
  {
   "cell_type": "markdown",
   "id": "6f6b13ee",
   "metadata": {},
   "source": [
    "GDP per capita in elecoral autocracy and liberal democracy are different - 3.592 and 0.23.\n",
    "GDP per capita in elecoral democracy and liberal democracy do not have the same median 2.98 and 0.23.\n",
    "To conclude,  the gwrowth of GDP is higher in electoral autocracy then in liberal democracy, and in electoral democracy then in liberal autocracy. It might be a sigh that hybrid regimes are grow better then democracies. "
   ]
  },
  {
   "cell_type": "markdown",
   "id": "f555de39",
   "metadata": {},
   "source": [
    "# Hypothesis 2. The level of democracy, equal distribution of resources, political stability, state ownership of economy correlates with economic growth of the country. \n",
    "Part  of  the  variables  are  continuous,  while  others  have  ordinal  scale.  It  makes  the  Spearman  correlation  most \n",
    "suitable method to test correlation between these variables.  \n",
    "H0: there is no monotonic relationship between the democracy and the GDP per capita in the population.  \n",
    "H0: there is no monotonic relationship between the equal distribution of resources and the GDP per capita in the \n",
    "population.  \n",
    "H0: there is no monotonic relationship between the political stability and the GDP per capita in the population. \n",
    "H0: there is no monotonic relationship between the state ownership and the GDP per capita in the population. "
   ]
  },
  {
   "cell_type": "code",
   "execution_count": 284,
   "id": "2c7f31d1",
   "metadata": {},
   "outputs": [
    {
     "data": {
      "image/png": "[encoded data removed]",
      "text/plain": [
       "<Figure size 432x288 with 1 Axes>"
      ]
     },
     "metadata": {
      "needs_background": "light"
     },
     "output_type": "display_data"
    }
   ],
   "source": [
    "#H0: there is no monotonic relationship between the democracy and the GDP per capita in the population. \n",
    "#plotting scatterplot\n",
    "indicator_1 = 'GDP per capita'\n",
    "indicator_2 = 'Democracy'\n",
    "\n",
    "x = df_2[indicator_1]\n",
    "y = df_2[indicator_2]\n",
    "\n",
    "plt.plot(x,y,'o')\n",
    "plt.xlabel(indicator_1)\n",
    "plt.ylabel(indicator_2)\n",
    "plt.show()"
   ]
  },
  {
   "cell_type": "code",
   "execution_count": 285,
   "id": "cb3e5095",
   "metadata": {},
   "outputs": [
    {
     "data": {
      "text/plain": [
       "SpearmanrResult(correlation=-0.26914883509590004, pvalue=0.002125603848549846)"
      ]
     },
     "execution_count": 285,
     "metadata": {},
     "output_type": "execute_result"
    }
   ],
   "source": [
    "stats.spearmanr(x,y)"
   ]
  },
  {
   "cell_type": "markdown",
   "id": "ddfb1efe",
   "metadata": {},
   "source": [
    "null hypotesis can be rejected, p-value is 0.002 < 0.05. there is a negative monotonic relationship (-0.27) between the democracy and the GDP per capita in the population. "
   ]
  },
  {
   "cell_type": "code",
   "execution_count": 286,
   "id": "caae3e8c",
   "metadata": {},
   "outputs": [
    {
     "data": {
      "image/png": "[encoded data removed]",
      "text/plain": [
       "<Figure size 432x288 with 1 Axes>"
      ]
     },
     "metadata": {
      "needs_background": "light"
     },
     "output_type": "display_data"
    }
   ],
   "source": [
    "#H0: there is no monotonic relationship between the equal distribution of resources and the GDP per capita in the population.\n",
    "indicator_1 = 'GDP per capita'\n",
    "indicator_2 = 'Distribution'\n",
    "x = df_2[indicator_1]\n",
    "y = df_2[indicator_2]\n",
    "\n",
    "plt.plot(x,y,'o')\n",
    "plt.xlabel(indicator_1)\n",
    "plt.ylabel(indicator_2)\n",
    "plt.show()"
   ]
  },
  {
   "cell_type": "code",
   "execution_count": 287,
   "id": "56cc6cd7",
   "metadata": {},
   "outputs": [
    {
     "data": {
      "text/plain": [
       "SpearmanrResult(correlation=-0.2539095304013844, pvalue=0.003827614497196326)"
      ]
     },
     "execution_count": 287,
     "metadata": {},
     "output_type": "execute_result"
    }
   ],
   "source": [
    "stats.spearmanr(x,y)"
   ]
  },
  {
   "cell_type": "markdown",
   "id": "a9dbcf17",
   "metadata": {},
   "source": [
    "p value 0.004 is less then 0.05, and we can reject null hypothesis. There is a positive monotonic correlation (0.25) between equal distribution of resources and GDP per capita. "
   ]
  },
  {
   "cell_type": "code",
   "execution_count": 288,
   "id": "5a05338d",
   "metadata": {},
   "outputs": [
    {
     "data": {
      "image/png": "[encoded data removed]",
      "text/plain": [
       "<Figure size 432x288 with 1 Axes>"
      ]
     },
     "metadata": {
      "needs_background": "light"
     },
     "output_type": "display_data"
    }
   ],
   "source": [
    "#H0: there is no monotonic relationship between the political stability and the GDP per capita in the population.\n",
    "indicator_1 = 'GDP per capita'\n",
    "indicator_2 = 'Stability'\n",
    "x = df_2[indicator_1]\n",
    "y = df_2[indicator_2]\n",
    "plt.plot(x,y,'o')\n",
    "\n",
    "plt.xlabel(indicator_1)\n",
    "plt.ylabel(indicator_2)\n",
    "plt.show()"
   ]
  },
  {
   "cell_type": "code",
   "execution_count": 289,
   "id": "bc0830b1",
   "metadata": {},
   "outputs": [
    {
     "data": {
      "text/plain": [
       "SpearmanrResult(correlation=-0.30497437064712696, pvalue=0.0004647098522736344)"
      ]
     },
     "execution_count": 289,
     "metadata": {},
     "output_type": "execute_result"
    }
   ],
   "source": [
    "stats.spearmanr(x,y)"
   ]
  },
  {
   "cell_type": "markdown",
   "id": "28564558",
   "metadata": {},
   "source": [
    "null hypotesis can be rejected, p-value is 0.00 < 0.05.  there is negative monotonic relationship (-0.3) between the political stability and the GDP per capita in the population."
   ]
  },
  {
   "cell_type": "code",
   "execution_count": 290,
   "id": "569bbb15",
   "metadata": {},
   "outputs": [
    {
     "data": {
      "image/png": "[encoded data removed]",
      "text/plain": [
       "<Figure size 432x288 with 1 Axes>"
      ]
     },
     "metadata": {
      "needs_background": "light"
     },
     "output_type": "display_data"
    }
   ],
   "source": [
    "#H0: there is no monotonic relationship between the state ownership and the GDP per capita in the population. \n",
    "indicator_1 = 'GDP per capita'\n",
    "indicator_2 = 'Ownership'\n",
    "x = df_2[indicator_1]\n",
    "y = df_2[indicator_2]\n",
    "plt.plot(x,y,'o')\n",
    "\n",
    "plt.xlabel(indicator_1)\n",
    "plt.ylabel(indicator_2)\n",
    "plt.show()"
   ]
  },
  {
   "cell_type": "code",
   "execution_count": 291,
   "id": "70c008ce",
   "metadata": {},
   "outputs": [
    {
     "data": {
      "text/plain": [
       "SpearmanrResult(correlation=-0.30917617302410083, pvalue=0.0003837287394518265)"
      ]
     },
     "execution_count": 291,
     "metadata": {},
     "output_type": "execute_result"
    }
   ],
   "source": [
    "stats.spearmanr(x,y)"
   ]
  },
  {
   "cell_type": "markdown",
   "id": "7f1a9efb",
   "metadata": {},
   "source": [
    "null hypotesis cannot be rejected, p-value is 0.00 < 0.05. there is negative monotonic relationship (-0.31) between the state ownership and the GDP per capita in the population. "
   ]
  },
  {
   "cell_type": "markdown",
   "id": "55757759",
   "metadata": {},
   "source": [
    "#  What factors, connected with democracy, affect economic growth the most?\n",
    "H0: beta coefficient is equal to zero\n",
    "\n",
    "method: linear regression"
   ]
  },
  {
   "cell_type": "code",
   "execution_count": 293,
   "id": "d2062b79",
   "metadata": {},
   "outputs": [
    {
     "data": {
      "text/plain": [
       "array([['Mexico', 'MEX', 2012, ..., 0.477, 0.986, 2.24713983020912],\n",
       "       ['Suriname', 'SUR', 2012, ..., -0.473, 0.012, 1.53869362118127],\n",
       "       ['Sweden', 'SWE', 2012, ..., 1.908, 1.586, -1.32100232444557],\n",
       "       ...,\n",
       "       ['Singapore', 'SGP', 2012, ..., 1.966, -0.784, 1.90446223662212],\n",
       "       ['Solomon Islands', 'SLB', 2012, ..., -1.041, 0.893,\n",
       "        -0.799651385948181],\n",
       "       ['Vanuatu', 'VUT', 2012, ..., -0.731, 0.855, -1.76192124880252]],\n",
       "      dtype=object)"
      ]
     },
     "execution_count": 293,
     "metadata": {},
     "output_type": "execute_result"
    }
   ],
   "source": [
    "target = 'GDP per capita'\n",
    "input_vars = ['Democracy',\n",
    "            'Distribution', \n",
    "              'Stability', \n",
    "              'Ownership'\n",
    "            ]\n",
    "np.asarray(df_2)"
   ]
  },
  {
   "cell_type": "code",
   "execution_count": 294,
   "id": "6cb597cc",
   "metadata": {},
   "outputs": [
    {
     "data": {
      "text/plain": [
       "<AxesSubplot:>"
      ]
     },
     "execution_count": 294,
     "metadata": {},
     "output_type": "execute_result"
    },
    {
     "data": {
      "image/png": "[encoded data removed]",
      "text/plain": [
       "<Figure size 432x288 with 2 Axes>"
      ]
     },
     "metadata": {
      "needs_background": "light"
     },
     "output_type": "display_data"
    }
   ],
   "source": [
    "sns.heatmap(df_2[input_vars].corr(),annot=True)"
   ]
  },
  {
   "cell_type": "code",
   "execution_count": 295,
   "id": "46b9b576",
   "metadata": {},
   "outputs": [],
   "source": [
    "X = df_2[input_vars]\n",
    "\n",
    "# For each X, calculate VIF and save in dataframe\n",
    "vif = pd.DataFrame()\n",
    "vif[\"features\"] = X.columns\n",
    "vif[\"VIF Factor\"] = [variance_inflation_factor(X.values, i) \n",
    "                     for i in range(X.shape[1])]"
   ]
  },
  {
   "cell_type": "code",
   "execution_count": 296,
   "id": "7d5e2d7e",
   "metadata": {},
   "outputs": [
    {
     "data": {
      "text/html": [
       "<div>\n",
       "<style scoped>\n",
       "    .dataframe tbody tr th:only-of-type {\n",
       "        vertical-align: middle;\n",
       "    }\n",
       "\n",
       "    .dataframe tbody tr th {\n",
       "        vertical-align: top;\n",
       "    }\n",
       "\n",
       "    .dataframe thead th {\n",
       "        text-align: right;\n",
       "    }\n",
       "</style>\n",
       "<table border=\"1\" class=\"dataframe\">\n",
       "  <thead>\n",
       "    <tr style=\"text-align: right;\">\n",
       "      <th></th>\n",
       "      <th>features</th>\n",
       "      <th>VIF Factor</th>\n",
       "    </tr>\n",
       "  </thead>\n",
       "  <tbody>\n",
       "    <tr>\n",
       "      <th>0</th>\n",
       "      <td>Democracy</td>\n",
       "      <td>9.096375</td>\n",
       "    </tr>\n",
       "    <tr>\n",
       "      <th>1</th>\n",
       "      <td>Distribution</td>\n",
       "      <td>6.315608</td>\n",
       "    </tr>\n",
       "    <tr>\n",
       "      <th>2</th>\n",
       "      <td>Stability</td>\n",
       "      <td>1.196373</td>\n",
       "    </tr>\n",
       "    <tr>\n",
       "      <th>3</th>\n",
       "      <td>Ownership</td>\n",
       "      <td>2.724873</td>\n",
       "    </tr>\n",
       "  </tbody>\n",
       "</table>\n",
       "</div>"
      ],
      "text/plain": [
       "       features  VIF Factor\n",
       "0     Democracy    9.096375\n",
       "1  Distribution    6.315608\n",
       "2     Stability    1.196373\n",
       "3     Ownership    2.724873"
      ]
     },
     "execution_count": 296,
     "metadata": {},
     "output_type": "execute_result"
    }
   ],
   "source": [
    "vif"
   ]
  },
  {
   "cell_type": "markdown",
   "id": "5cbc6801",
   "metadata": {},
   "source": [
    "Variables are correlate with each other strongly, let's use subset selection to choose variables for the linear model. "
   ]
  },
  {
   "cell_type": "code",
   "execution_count": 297,
   "id": "fc847842",
   "metadata": {},
   "outputs": [],
   "source": [
    "var_combinations = []\n",
    "for n in range(len(input_vars) + 1):\n",
    "    combinations_length_n = list(combinations(input_vars, n))\n",
    "    for comb in combinations_length_n:\n",
    "        var_list = [x for x in comb]\n",
    "        var_combinations.append(var_list)"
   ]
  },
  {
   "cell_type": "code",
   "execution_count": 298,
   "id": "5ed1abeb",
   "metadata": {},
   "outputs": [
    {
     "name": "stdout",
     "output_type": "stream",
     "text": [
      "[('Democracy', 'Distribution', 'Stability'), ('Democracy', 'Distribution', 'Ownership'), ('Democracy', 'Stability', 'Ownership'), ('Distribution', 'Stability', 'Ownership')]\n"
     ]
    }
   ],
   "source": [
    "n=3\n",
    "combinations_length_n = list(combinations(input_vars, n))\n",
    "print(combinations_length_n)"
   ]
  },
  {
   "cell_type": "code",
   "execution_count": 299,
   "id": "deb802db",
   "metadata": {
    "scrolled": true
   },
   "outputs": [
    {
     "data": {
      "text/plain": [
       "[[],\n",
       " ['Democracy'],\n",
       " ['Distribution'],\n",
       " ['Stability'],\n",
       " ['Ownership'],\n",
       " ['Democracy', 'Distribution'],\n",
       " ['Democracy', 'Stability'],\n",
       " ['Democracy', 'Ownership'],\n",
       " ['Distribution', 'Stability'],\n",
       " ['Distribution', 'Ownership'],\n",
       " ['Stability', 'Ownership'],\n",
       " ['Democracy', 'Distribution', 'Stability'],\n",
       " ['Democracy', 'Distribution', 'Ownership'],\n",
       " ['Democracy', 'Stability', 'Ownership'],\n",
       " ['Distribution', 'Stability', 'Ownership'],\n",
       " ['Democracy', 'Distribution', 'Stability', 'Ownership']]"
      ]
     },
     "execution_count": 299,
     "metadata": {},
     "output_type": "execute_result"
    }
   ],
   "source": [
    "var_combinations"
   ]
  },
  {
   "cell_type": "code",
   "execution_count": 300,
   "id": "56e545bc",
   "metadata": {},
   "outputs": [
    {
     "name": "stdout",
     "output_type": "stream",
     "text": [
      "[] 0.0\n",
      "['Democracy'] 0.04744824453840535\n",
      "['Distribution'] 0.034903670123508146\n",
      "['Stability'] 0.08466708938267697\n",
      "['Ownership'] 0.08348440526439482\n",
      "['Democracy', 'Distribution'] 0.048796277497466845\n",
      "['Democracy', 'Stability'] 0.08048591243291403\n",
      "['Democracy', 'Ownership'] 0.082192903996682\n",
      "['Distribution', 'Stability'] 0.07777185881972404\n",
      "['Distribution', 'Ownership'] 0.10231151626065194\n",
      "['Stability', 'Ownership'] 0.10881215822846357\n",
      "['Democracy', 'Distribution', 'Stability'] 0.07397300208642199\n",
      "['Democracy', 'Distribution', 'Ownership'] 0.0952966698600497\n",
      "['Democracy', 'Stability', 'Ownership'] 0.10180055856400205\n",
      "['Distribution', 'Stability', 'Ownership'] 0.10315922232959163\n",
      "['Democracy', 'Distribution', 'Stability', 'Ownership'] 0.09662602214855653\n"
     ]
    }
   ],
   "source": [
    "y = df_2[target]\n",
    "adj_rsquared_results = []\n",
    "for comb in var_combinations:\n",
    "    \n",
    "    X = df_2[comb]\n",
    "    X = sm.add_constant(X)\n",
    "    model = sm.OLS(y, X).fit()\n",
    "\n",
    "    print(comb,model.rsquared_adj)\n",
    "    adj_rsquared_results.append((model.rsquared_adj, comb))"
   ]
  },
  {
   "cell_type": "code",
   "execution_count": 301,
   "id": "517c29f8",
   "metadata": {},
   "outputs": [
    {
     "data": {
      "text/plain": [
       "[(0.10881215822846357, ['Stability', 'Ownership']),\n",
       " (0.10315922232959163, ['Distribution', 'Stability', 'Ownership']),\n",
       " (0.10231151626065194, ['Distribution', 'Ownership']),\n",
       " (0.10180055856400205, ['Democracy', 'Stability', 'Ownership']),\n",
       " (0.09662602214855653,\n",
       "  ['Democracy', 'Distribution', 'Stability', 'Ownership']),\n",
       " (0.0952966698600497, ['Democracy', 'Distribution', 'Ownership']),\n",
       " (0.08466708938267697, ['Stability']),\n",
       " (0.08348440526439482, ['Ownership']),\n",
       " (0.082192903996682, ['Democracy', 'Ownership']),\n",
       " (0.08048591243291403, ['Democracy', 'Stability']),\n",
       " (0.07777185881972404, ['Distribution', 'Stability']),\n",
       " (0.07397300208642199, ['Democracy', 'Distribution', 'Stability']),\n",
       " (0.048796277497466845, ['Democracy', 'Distribution']),\n",
       " (0.04744824453840535, ['Democracy']),\n",
       " (0.034903670123508146, ['Distribution']),\n",
       " (0.0, [])]"
      ]
     },
     "execution_count": 301,
     "metadata": {},
     "output_type": "execute_result"
    }
   ],
   "source": [
    "sorted(adj_rsquared_results, reverse= True)\n"
   ]
  },
  {
   "cell_type": "code",
   "execution_count": 302,
   "id": "588cf7b5",
   "metadata": {},
   "outputs": [
    {
     "data": {
      "text/plain": [
       "(0.10881215822846357, ['Stability', 'Ownership'])"
      ]
     },
     "execution_count": 302,
     "metadata": {},
     "output_type": "execute_result"
    }
   ],
   "source": [
    "max(adj_rsquared_results)"
   ]
  },
  {
   "cell_type": "markdown",
   "id": "1f02f2d6",
   "metadata": {},
   "source": [
    "model shows best result with variables ownership and stability. I will use them in the linear model"
   ]
  },
  {
   "cell_type": "code",
   "execution_count": 303,
   "id": "45f0fedc",
   "metadata": {},
   "outputs": [
    {
     "data": {
      "text/plain": [
       "['Stability', 'Ownership']"
      ]
     },
     "execution_count": 303,
     "metadata": {},
     "output_type": "execute_result"
    }
   ],
   "source": [
    "selected_vars = max(adj_rsquared_results)[1]\n",
    "selected_vars"
   ]
  },
  {
   "cell_type": "code",
   "execution_count": 304,
   "id": "ba9c4ac2",
   "metadata": {},
   "outputs": [
    {
     "name": "stdout",
     "output_type": "stream",
     "text": [
      "                            OLS Regression Results                            \n",
      "==============================================================================\n",
      "Dep. Variable:         GDP per capita   R-squared:                       0.123\n",
      "Model:                            OLS   Adj. R-squared:                  0.109\n",
      "Method:                 Least Squares   F-statistic:                     8.753\n",
      "Date:                Mon, 02 Jan 2023   Prob (F-statistic):           0.000277\n",
      "Time:                        17:34:26   Log-Likelihood:                -332.36\n",
      "No. Observations:                 128   AIC:                             670.7\n",
      "Df Residuals:                     125   BIC:                             679.3\n",
      "Df Model:                           2                                         \n",
      "Covariance Type:            nonrobust                                         \n",
      "==============================================================================\n",
      "                 coef    std err          t      P>|t|      [0.025      0.975]\n",
      "------------------------------------------------------------------------------\n",
      "const          2.7801      0.392      7.097      0.000       2.005       3.555\n",
      "Stability     -0.7509      0.351     -2.140      0.034      -1.445      -0.057\n",
      "Ownership     -0.7114      0.339     -2.101      0.038      -1.381      -0.041\n",
      "==============================================================================\n",
      "Omnibus:                        8.665   Durbin-Watson:                   2.016\n",
      "Prob(Omnibus):                  0.013   Jarque-Bera (JB):               18.109\n",
      "Skew:                          -0.069   Prob(JB):                     0.000117\n",
      "Kurtosis:                       4.837   Cond. No.                         2.61\n",
      "==============================================================================\n",
      "\n",
      "Notes:\n",
      "[1] Standard Errors assume that the covariance matrix of the errors is correctly specified.\n"
     ]
    }
   ],
   "source": [
    "# define the variables\n",
    "X = df_2[selected_vars]\n",
    "y = df_2[target]\n",
    "\n",
    "# add constant to predictor variables (i.e. the intercept)\n",
    "X = sm.add_constant(X)\n",
    "\n",
    "# fit linear regression model\n",
    "model_sm = sm.OLS(y, X).fit()\n",
    "\n",
    "# view model summary\n",
    "print(model_sm.summary())"
   ]
  },
  {
   "cell_type": "markdown",
   "id": "3c04a762",
   "metadata": {},
   "source": [
    "All the variables are significant with 95% confidence, Adj. R-squared is 0.109. \n",
    "The share of the economy, controlled by state negatively contributes to the GDP growth of the country.\n",
    "The political stability  negatively contributes to the GDP growth of the country.\n",
    "\n",
    "All things being equal, a one full point in ownership score increase is associated with -0.71 unit decrease in GDP growth per capita.\n",
    "All things being equal, a one full point in politicl stability score increase is associated with -0.75 unit decrease in GDP growth per capita."
   ]
  },
  {
   "cell_type": "code",
   "execution_count": 305,
   "id": "a871bce4",
   "metadata": {},
   "outputs": [
    {
     "data": {
      "image/png": "[encoded data removed]",
      "text/plain": [
       "<Figure size 432x288 with 1 Axes>"
      ]
     },
     "metadata": {
      "needs_background": "light"
     },
     "output_type": "display_data"
    },
    {
     "data": {
      "image/png": "[encoded data removed]",
      "text/plain": [
       "<Figure size 432x288 with 1 Axes>"
      ]
     },
     "metadata": {
      "needs_background": "light"
     },
     "output_type": "display_data"
    },
    {
     "name": "stdout",
     "output_type": "stream",
     "text": [
      "95.31% of the points fall within (-2,2).\n"
     ]
    }
   ],
   "source": [
    "plt.hist(model_sm.resid_pearson)\n",
    "plt.xlabel('Standardized residuals')\n",
    "plt.ylabel('Frequency')\n",
    "plt.show()\n",
    "\n",
    "plt.plot(model_sm.fittedvalues, model_sm.resid_pearson, 'o', color='b')\n",
    "plt.axhline(-2, color='b', alpha=0.5)\n",
    "plt.axhline(2, color='b', alpha=0.5)\n",
    "plt.axhline(0, linestyle='--', color='b', alpha=0.5)\n",
    "plt.xlabel('Fitted values')\n",
    "plt.ylabel('Standard residuals')\n",
    "plt.show()\n",
    "\n",
    "print('%.2f%% of the points fall within (-2,2).'%(100*sum([1 for i in model_sm.resid_pearson if -2<i<2])/len(model_sm.resid_pearson)))"
   ]
  },
  {
   "cell_type": "markdown",
   "id": "1d450a8e",
   "metadata": {},
   "source": [
    "Residuals are distributed bell-shaped, and they are looked homoscedastic."
   ]
  },
  {
   "cell_type": "markdown",
   "id": "fd9bcf4c",
   "metadata": {},
   "source": [
    "Conclusions for the 2012 year:\n",
    "1. GDP per capita are not the same in all four regime groups. Liberal democracy has the worst result, compared by pairs with elecoral democracy and electoral autocracy. \n",
    "2.  there is a negative monotonic correlation (-0.27) between the democracy and the GDP per capita in the population. \n",
    "    There is a positive monotonic correlation (0.25) between equal distribution of resources and GDP per capita. \n",
    "    there is negative monotonic correlation (-0.3) between the political stability and the GDP per capita in the population.\n",
    "    there is negative monotonic correlation (-0.31) between the state ownership and the GDP per capita in the population.\n",
    "3. All the variables are significant with 95% confidence. The share of the economy, controlled by state negatively contributes to the GDP growth of the country. The political stability negatively contributes to the GDP growth of the country."
   ]
  },
  {
   "cell_type": "markdown",
   "id": "36dcf3fe",
   "metadata": {},
   "source": [
    "# 2019"
   ]
  },
  {
   "cell_type": "markdown",
   "id": "4f971b1b",
   "metadata": {},
   "source": [
    "# Hypothesis 1. GDP per capita across different democracy groups is the same.  "
   ]
  },
  {
   "cell_type": "code",
   "execution_count": 344,
   "id": "194256a5",
   "metadata": {},
   "outputs": [
    {
     "name": "stdout",
     "output_type": "stream",
     "text": [
      "           Country  country_text_id  year  Distribution  Stability  Ownership  \\\n",
      "Democracy                                                                       \n",
      "0.0             12               12    12            12         12         12   \n",
      "1.0             48               48    48            48         48         48   \n",
      "2.0             40               40    40            40         40         40   \n",
      "3.0             28               28    28            28         28         28   \n",
      "\n",
      "           GDP per capita  \n",
      "Democracy                  \n",
      "0.0                    12  \n",
      "1.0                    48  \n",
      "2.0                    40  \n",
      "3.0                    28  \n",
      "           year  Distribution  Stability  Ownership  GDP per capita\n",
      "Democracy                                                          \n",
      "0.0         0.0      0.224563   0.886369   1.062571        3.330044\n",
      "1.0         0.0      0.227822   0.624744   1.017891        3.426476\n",
      "2.0         0.0      0.239450   0.584597   0.660177        2.162701\n",
      "3.0         0.0      0.098372   0.605091   0.634597        1.185143\n"
     ]
    }
   ],
   "source": [
    "df_3 = df_final[df_final['year'] == 2019]\n",
    "df_3 = df_3.dropna()\n",
    "print(df_3.groupby('Democracy').count())\n",
    "print(df_3.groupby('Democracy').std())"
   ]
  },
  {
   "cell_type": "markdown",
   "id": "56e3c88e",
   "metadata": {},
   "source": [
    "in terms f std this year is not similar to the previous two - std is not decreasing with such stability with liberalization of regime.\n",
    "\n",
    "\n",
    "First, we need to check for the validity of its main assumptions:\n",
    "\n",
    "Independence of the observations - Independence is straightforward: all our observations come from different countries which we can consider as independent.\n",
    "\n",
    "Each sample has the same sample size - for 2019 year sample sized are different and in group of closed authtocracy and liber democracy are less then 30 observations.\n",
    "\n",
    "Checking for the next assumptions are not nessecary as we already do not have same sample sizes Each sample has a normal distribution These distributions have the same variance (homoscedasticity)\n",
    "\n",
    "I will use Kruskai - Wallis"
   ]
  },
  {
   "cell_type": "code",
   "execution_count": 307,
   "id": "6b3e59a6",
   "metadata": {},
   "outputs": [],
   "source": [
    "set(df_3.Democracy)\n",
    "democracies = [0, 1, 2, 3]"
   ]
  },
  {
   "cell_type": "code",
   "execution_count": 308,
   "id": "d4fa0182",
   "metadata": {},
   "outputs": [
    {
     "data": {
      "image/png": "[encoded data removed]",
      "text/plain": [
       "<Figure size 648x360 with 1 Axes>"
      ]
     },
     "metadata": {
      "needs_background": "light"
     },
     "output_type": "display_data"
    }
   ],
   "source": [
    "plt.figure(figsize=(9,5))\n",
    "for dem in democracies:\n",
    "    plt.hist(df_3[df_3.Democracy==dem]['GDP per capita'],alpha=0.5,label=dem)\n",
    "    plt.axvline(np.median(df_3[df_3.Democracy==dem]['GDP per capita']))\n",
    "plt.xlabel('GDP per capita')\n",
    "plt.ylabel('Frequency')\n",
    "plt.legend()\n",
    "plt.show()"
   ]
  },
  {
   "cell_type": "markdown",
   "id": "aa6402dd",
   "metadata": {},
   "source": [
    "visually all four distributions are similar, means are close."
   ]
  },
  {
   "cell_type": "code",
   "execution_count": 309,
   "id": "ba635d0f",
   "metadata": {},
   "outputs": [
    {
     "data": {
      "image/png": "[encoded data removed]",
      "text/plain": [
       "<Figure size 720x504 with 1 Axes>"
      ]
     },
     "metadata": {
      "needs_background": "light"
     },
     "output_type": "display_data"
    }
   ],
   "source": [
    "data = [df_3[df_3.Democracy==0]['GDP per capita'], df_3[df_3.Democracy==1]['GDP per capita'], df_3[df_3.Democracy==2]['GDP per capita'], df_3[df_3.Democracy==3]['GDP per capita']] \n",
    "   \n",
    "fig = plt.figure(figsize =(10, 7)) \n",
    "   \n",
    "# Creating axes instance \n",
    "ax = fig.add_axes([0, 0, 1, 1]) \n",
    "   \n",
    "# Creating plot \n",
    "bp = ax.boxplot(data) \n",
    "# x-axis labels \n",
    "ax.set_xticklabels(['Closed authocracy', 'Electoral autocracy', ' Electoral democracy', 'Liberal democracy']) \n",
    "   \n",
    "# show plot \n",
    "plt.show() "
   ]
  },
  {
   "cell_type": "markdown",
   "id": "8c3b6c0c",
   "metadata": {},
   "source": [
    "in boxplots visually the variance of the liberal democracy is the smallest, means are similar. "
   ]
  },
  {
   "cell_type": "code",
   "execution_count": 310,
   "id": "f328ed10",
   "metadata": {},
   "outputs": [],
   "source": [
    "array_0 = df_3[df_3.Democracy==0]['GDP per capita']\n",
    "array_1 = df_3[df_3.Democracy==1]['GDP per capita']\n",
    "array_2 = df_3[df_3.Democracy==2]['GDP per capita']\n",
    "array_3 = df_3[df_3.Democracy==3]['GDP per capita']\n"
   ]
  },
  {
   "cell_type": "code",
   "execution_count": 311,
   "id": "e630a471",
   "metadata": {},
   "outputs": [
    {
     "data": {
      "text/plain": [
       "KruskalResult(statistic=0.9851752837763001, pvalue=0.804839038040127)"
      ]
     },
     "execution_count": 311,
     "metadata": {},
     "output_type": "execute_result"
    }
   ],
   "source": [
    "stats.kruskal(array_0,array_1,array_2,array_3)"
   ]
  },
  {
   "cell_type": "markdown",
   "id": "20a090ce",
   "metadata": {},
   "source": [
    "p-value 0.8 > 0.05 --> We cannnot reject the null hypothesis that the population medians of all the groups are the same."
   ]
  },
  {
   "cell_type": "markdown",
   "id": "132d80af",
   "metadata": {},
   "source": [
    "# Hypothesis 2. The level of democracy, equal distribution of resources, political stability, state ownership of economy correlates with economic growth of the country. \n",
    "Part  of  the  variables  are  continuous,  while  others  have  ordinal  scale.  It  makes  the  Spearman  correlation  most \n",
    "suitable method to test correlation between these variables.  \n",
    "H0: there is no monotonic relationship between the democracy and the GDP per capita in the population.  \n",
    "H0: there is no monotonic relationship between the equal distribution of resources and the GDP per capita in the \n",
    "population.  \n",
    "H0: there is no monotonic relationship between the political stability and the GDP per capita in the population. \n",
    "H0: there is no monotonic relationship between the state ownership and the GDP per capita in the population. "
   ]
  },
  {
   "cell_type": "code",
   "execution_count": 312,
   "id": "78e95ce8",
   "metadata": {},
   "outputs": [
    {
     "data": {
      "image/png": "[encoded data removed]",
      "text/plain": [
       "<Figure size 432x288 with 1 Axes>"
      ]
     },
     "metadata": {
      "needs_background": "light"
     },
     "output_type": "display_data"
    }
   ],
   "source": [
    "#H0: there is no monotonic relationship between the democracy and the GDP per capita in the population.\n",
    "indicator_1 = 'GDP per capita'\n",
    "indicator_2 = 'Democracy'\n",
    "\n",
    "x = df_3[indicator_1]\n",
    "y = df_3[indicator_2]\n",
    "\n",
    "plt.plot(x,y,'o')\n",
    "plt.xlabel(indicator_1)\n",
    "plt.ylabel(indicator_2)\n",
    "plt.show()"
   ]
  },
  {
   "cell_type": "code",
   "execution_count": 313,
   "id": "4c513905",
   "metadata": {},
   "outputs": [
    {
     "data": {
      "text/plain": [
       "SpearmanrResult(correlation=-0.02827570293020701, pvalue=0.7513739323498438)"
      ]
     },
     "execution_count": 313,
     "metadata": {},
     "output_type": "execute_result"
    }
   ],
   "source": [
    "stats.spearmanr(x,y)"
   ]
  },
  {
   "cell_type": "markdown",
   "id": "86595ce5",
   "metadata": {},
   "source": [
    "null hypotesis cannot be rejected, p-value is 0.75 > 0.05"
   ]
  },
  {
   "cell_type": "code",
   "execution_count": 314,
   "id": "ed5419a2",
   "metadata": {},
   "outputs": [
    {
     "data": {
      "image/png": "[encoded data removed]",
      "text/plain": [
       "<Figure size 432x288 with 1 Axes>"
      ]
     },
     "metadata": {
      "needs_background": "light"
     },
     "output_type": "display_data"
    }
   ],
   "source": [
    "#H0: there is no monotonic relationship between the equal distribution of resources and the GDP per capita in the population.\n",
    "indicator_1 = 'GDP per capita'\n",
    "indicator_2 = 'Distribution'\n",
    "\n",
    "x = df_3[indicator_1]\n",
    "y = df_3[indicator_2]\n",
    "\n",
    "plt.plot(x,y,'o')\n",
    "plt.xlabel(indicator_1)\n",
    "plt.ylabel(indicator_2)\n",
    "plt.show()"
   ]
  },
  {
   "cell_type": "code",
   "execution_count": 315,
   "id": "6ea3083f",
   "metadata": {},
   "outputs": [
    {
     "data": {
      "text/plain": [
       "SpearmanrResult(correlation=0.009668083451009179, pvalue=0.9137486872656607)"
      ]
     },
     "execution_count": 315,
     "metadata": {},
     "output_type": "execute_result"
    }
   ],
   "source": [
    "stats.spearmanr(x,y)"
   ]
  },
  {
   "cell_type": "markdown",
   "id": "ba237bb2",
   "metadata": {},
   "source": [
    "null hypotesis cannot be rejected, p-value is 0.91 > 0.05"
   ]
  },
  {
   "cell_type": "code",
   "execution_count": 316,
   "id": "b8f59c44",
   "metadata": {},
   "outputs": [
    {
     "data": {
      "image/png": "[encoded data removed]",
      "text/plain": [
       "<Figure size 432x288 with 1 Axes>"
      ]
     },
     "metadata": {
      "needs_background": "light"
     },
     "output_type": "display_data"
    }
   ],
   "source": [
    "#H0: there is no monotonic relationship between the political stability and the GDP per capita in the population. \n",
    "indicator_1 = 'GDP per capita'\n",
    "indicator_2 = 'Stability'\n",
    "\n",
    "x = df_3[indicator_1]\n",
    "y = df_3[indicator_2]\n",
    "\n",
    "plt.plot(x,y,'o')\n",
    "plt.xlabel(indicator_1)\n",
    "plt.ylabel(indicator_2)\n",
    "plt.show()"
   ]
  },
  {
   "cell_type": "code",
   "execution_count": 317,
   "id": "6968f366",
   "metadata": {},
   "outputs": [
    {
     "data": {
      "text/plain": [
       "SpearmanrResult(correlation=0.01915866124008174, pvalue=0.8300410802443894)"
      ]
     },
     "execution_count": 317,
     "metadata": {},
     "output_type": "execute_result"
    }
   ],
   "source": [
    "stats.spearmanr(x,y)"
   ]
  },
  {
   "cell_type": "markdown",
   "id": "6a610ff2",
   "metadata": {},
   "source": [
    "null hypotesis cannot be rejected, p-value is 0.83 > 0.05"
   ]
  },
  {
   "cell_type": "code",
   "execution_count": 318,
   "id": "37f5db5c",
   "metadata": {},
   "outputs": [
    {
     "data": {
      "image/png": "[encoded data removed]",
      "text/plain": [
       "<Figure size 432x288 with 1 Axes>"
      ]
     },
     "metadata": {
      "needs_background": "light"
     },
     "output_type": "display_data"
    }
   ],
   "source": [
    "#H0: there is no monotonic relationship between the state ownership and the GDP per capita in the population.\n",
    "indicator_1 = 'GDP per capita'\n",
    "indicator_2 = 'Ownership'\n",
    "\n",
    "x = df_3[indicator_1]\n",
    "y = df_3[indicator_2]\n",
    "\n",
    "plt.plot(x,y,'o')\n",
    "plt.xlabel(indicator_1)\n",
    "plt.ylabel(indicator_2)\n",
    "plt.show()"
   ]
  },
  {
   "cell_type": "code",
   "execution_count": 319,
   "id": "4b9f2b70",
   "metadata": {},
   "outputs": [
    {
     "data": {
      "text/plain": [
       "SpearmanrResult(correlation=0.04658648557245677, pvalue=0.6015455884759044)"
      ]
     },
     "execution_count": 319,
     "metadata": {},
     "output_type": "execute_result"
    }
   ],
   "source": [
    "stats.spearmanr(x,y)"
   ]
  },
  {
   "cell_type": "markdown",
   "id": "bde85dd3",
   "metadata": {},
   "source": [
    "null hypotesis cannot be rejected, p-value is 0.6 > 0.05"
   ]
  },
  {
   "cell_type": "markdown",
   "id": "383a30ff",
   "metadata": {},
   "source": [
    "#  What factors, connected with democracy, affect economic growth the most?\n",
    "H0: beta coefficient is equal to zero\n",
    "\n",
    "method: linear regression"
   ]
  },
  {
   "cell_type": "code",
   "execution_count": 320,
   "id": "ce108f8b",
   "metadata": {},
   "outputs": [
    {
     "data": {
      "text/plain": [
       "array([['Mexico', 'MEX', 2019, ..., 0.104, 0.938, -1.26932197948273],\n",
       "       ['Suriname', 'SUR', 2019, ..., -0.68, -0.331, 0.163586537511492],\n",
       "       ['Sweden', 'SWE', 2019, ..., 1.802, 1.466, 0.957561656419784],\n",
       "       ...,\n",
       "       ['Singapore', 'SGP', 2019, ..., 2.162, -0.784,\n",
       "        -0.0545548569257619],\n",
       "       ['Solomon Islands', 'SLB', 2019, ..., -0.832, 0.893,\n",
       "        -1.35880348421169],\n",
       "       ['Vanuatu', 'VUT', 2019, ..., -0.461, 0.855, 0.760014262428172]],\n",
       "      dtype=object)"
      ]
     },
     "execution_count": 320,
     "metadata": {},
     "output_type": "execute_result"
    }
   ],
   "source": [
    "target = 'GDP per capita'\n",
    "input_vars = ['Democracy',\n",
    "            'Distribution', \n",
    "              'Stability', \n",
    "              'Ownership'\n",
    "            ]\n",
    "np.asarray(df_3)"
   ]
  },
  {
   "cell_type": "code",
   "execution_count": 321,
   "id": "0c9a6fb8",
   "metadata": {},
   "outputs": [
    {
     "data": {
      "text/plain": [
       "<AxesSubplot:>"
      ]
     },
     "execution_count": 321,
     "metadata": {},
     "output_type": "execute_result"
    },
    {
     "data": {
      "image/png": "[encoded data removed]",
      "text/plain": [
       "<Figure size 432x288 with 2 Axes>"
      ]
     },
     "metadata": {
      "needs_background": "light"
     },
     "output_type": "display_data"
    }
   ],
   "source": [
    "sns.heatmap(df_3[input_vars].corr(),annot=True)"
   ]
  },
  {
   "cell_type": "code",
   "execution_count": 322,
   "id": "477ccd16",
   "metadata": {},
   "outputs": [],
   "source": [
    "X = df_3[input_vars]\n",
    "\n",
    "# For each X, calculate VIF and save in dataframe\n",
    "vif = pd.DataFrame()\n",
    "vif[\"features\"] = X.columns\n",
    "vif[\"VIF Factor\"] = [variance_inflation_factor(X.values, i) \n",
    "                     for i in range(X.shape[1])]"
   ]
  },
  {
   "cell_type": "code",
   "execution_count": 323,
   "id": "f939b1b0",
   "metadata": {},
   "outputs": [
    {
     "data": {
      "text/html": [
       "<div>\n",
       "<style scoped>\n",
       "    .dataframe tbody tr th:only-of-type {\n",
       "        vertical-align: middle;\n",
       "    }\n",
       "\n",
       "    .dataframe tbody tr th {\n",
       "        vertical-align: top;\n",
       "    }\n",
       "\n",
       "    .dataframe thead th {\n",
       "        text-align: right;\n",
       "    }\n",
       "</style>\n",
       "<table border=\"1\" class=\"dataframe\">\n",
       "  <thead>\n",
       "    <tr style=\"text-align: right;\">\n",
       "      <th></th>\n",
       "      <th>features</th>\n",
       "      <th>VIF Factor</th>\n",
       "    </tr>\n",
       "  </thead>\n",
       "  <tbody>\n",
       "    <tr>\n",
       "      <th>0</th>\n",
       "      <td>Democracy</td>\n",
       "      <td>7.806654</td>\n",
       "    </tr>\n",
       "    <tr>\n",
       "      <th>1</th>\n",
       "      <td>Distribution</td>\n",
       "      <td>5.628501</td>\n",
       "    </tr>\n",
       "    <tr>\n",
       "      <th>2</th>\n",
       "      <td>Stability</td>\n",
       "      <td>1.159347</td>\n",
       "    </tr>\n",
       "    <tr>\n",
       "      <th>3</th>\n",
       "      <td>Ownership</td>\n",
       "      <td>2.351173</td>\n",
       "    </tr>\n",
       "  </tbody>\n",
       "</table>\n",
       "</div>"
      ],
      "text/plain": [
       "       features  VIF Factor\n",
       "0     Democracy    7.806654\n",
       "1  Distribution    5.628501\n",
       "2     Stability    1.159347\n",
       "3     Ownership    2.351173"
      ]
     },
     "execution_count": 323,
     "metadata": {},
     "output_type": "execute_result"
    }
   ],
   "source": [
    "vif"
   ]
  },
  {
   "cell_type": "markdown",
   "id": "fb6a0190",
   "metadata": {},
   "source": [
    "variables are correlate with each other, so I will use subset selection to improve the model"
   ]
  },
  {
   "cell_type": "code",
   "execution_count": 324,
   "id": "fc886e8f",
   "metadata": {},
   "outputs": [],
   "source": [
    "var_combinations = []\n",
    "for n in range(len(input_vars) + 1):\n",
    "    combinations_length_n = list(combinations(input_vars, n))\n",
    "    for comb in combinations_length_n:\n",
    "        var_list = [x for x in comb]\n",
    "        var_combinations.append(var_list)"
   ]
  },
  {
   "cell_type": "code",
   "execution_count": 325,
   "id": "d7dd0ad8",
   "metadata": {},
   "outputs": [
    {
     "name": "stdout",
     "output_type": "stream",
     "text": [
      "[('Democracy', 'Distribution', 'Stability'), ('Democracy', 'Distribution', 'Ownership'), ('Democracy', 'Stability', 'Ownership'), ('Distribution', 'Stability', 'Ownership')]\n"
     ]
    }
   ],
   "source": [
    "n=3\n",
    "combinations_length_n = list(combinations(input_vars, n))\n",
    "print(combinations_length_n)"
   ]
  },
  {
   "cell_type": "code",
   "execution_count": 326,
   "id": "055a18e2",
   "metadata": {
    "scrolled": true
   },
   "outputs": [
    {
     "data": {
      "text/plain": [
       "[[],\n",
       " ['Democracy'],\n",
       " ['Distribution'],\n",
       " ['Stability'],\n",
       " ['Ownership'],\n",
       " ['Democracy', 'Distribution'],\n",
       " ['Democracy', 'Stability'],\n",
       " ['Democracy', 'Ownership'],\n",
       " ['Distribution', 'Stability'],\n",
       " ['Distribution', 'Ownership'],\n",
       " ['Stability', 'Ownership'],\n",
       " ['Democracy', 'Distribution', 'Stability'],\n",
       " ['Democracy', 'Distribution', 'Ownership'],\n",
       " ['Democracy', 'Stability', 'Ownership'],\n",
       " ['Distribution', 'Stability', 'Ownership'],\n",
       " ['Democracy', 'Distribution', 'Stability', 'Ownership']]"
      ]
     },
     "execution_count": 326,
     "metadata": {},
     "output_type": "execute_result"
    }
   ],
   "source": [
    "var_combinations"
   ]
  },
  {
   "cell_type": "code",
   "execution_count": 327,
   "id": "33d4099b",
   "metadata": {},
   "outputs": [
    {
     "name": "stdout",
     "output_type": "stream",
     "text": [
      "[] -2.220446049250313e-16\n",
      "['Democracy'] -0.006002133731460191\n",
      "['Distribution'] 0.0007300114412501779\n",
      "['Stability'] 0.0015410537083356823\n",
      "['Ownership'] -0.0012974457432544106\n",
      "['Democracy', 'Distribution'] -0.007238491979089101\n",
      "['Democracy', 'Stability'] -0.006040604580361375\n",
      "['Democracy', 'Ownership'] -0.00930576539420791\n",
      "['Distribution', 'Stability'] -0.005512095062354616\n",
      "['Distribution', 'Ownership'] -0.0020024541148608854\n",
      "['Stability', 'Ownership'] -0.00435462541613485\n",
      "['Democracy', 'Distribution', 'Stability'] -0.013053759116972152\n",
      "['Democracy', 'Distribution', 'Ownership'] -0.007102144769527419\n",
      "['Democracy', 'Stability', 'Ownership'] -0.010799419693401369\n",
      "['Distribution', 'Stability', 'Ownership'] -0.010046188755602481\n",
      "['Democracy', 'Distribution', 'Stability', 'Ownership'] -0.015053342327379315\n"
     ]
    }
   ],
   "source": [
    "y = df_3[target]\n",
    "\n",
    "adj_rsquared_results = []\n",
    "for comb in var_combinations:\n",
    "    \n",
    "    X = df_3[comb]\n",
    "    X = sm.add_constant(X)\n",
    "    model = sm.OLS(y, X).fit()\n",
    "\n",
    "    print(comb,model.rsquared_adj)\n",
    "    adj_rsquared_results.append((model.rsquared_adj, comb))"
   ]
  },
  {
   "cell_type": "code",
   "execution_count": 328,
   "id": "126e84e5",
   "metadata": {},
   "outputs": [
    {
     "data": {
      "text/plain": [
       "[(0.0015410537083356823, ['Stability']),\n",
       " (0.0007300114412501779, ['Distribution']),\n",
       " (-2.220446049250313e-16, []),\n",
       " (-0.0012974457432544106, ['Ownership']),\n",
       " (-0.0020024541148608854, ['Distribution', 'Ownership']),\n",
       " (-0.00435462541613485, ['Stability', 'Ownership']),\n",
       " (-0.005512095062354616, ['Distribution', 'Stability']),\n",
       " (-0.006002133731460191, ['Democracy']),\n",
       " (-0.006040604580361375, ['Democracy', 'Stability']),\n",
       " (-0.007102144769527419, ['Democracy', 'Distribution', 'Ownership']),\n",
       " (-0.007238491979089101, ['Democracy', 'Distribution']),\n",
       " (-0.00930576539420791, ['Democracy', 'Ownership']),\n",
       " (-0.010046188755602481, ['Distribution', 'Stability', 'Ownership']),\n",
       " (-0.010799419693401369, ['Democracy', 'Stability', 'Ownership']),\n",
       " (-0.013053759116972152, ['Democracy', 'Distribution', 'Stability']),\n",
       " (-0.015053342327379315,\n",
       "  ['Democracy', 'Distribution', 'Stability', 'Ownership'])]"
      ]
     },
     "execution_count": 328,
     "metadata": {},
     "output_type": "execute_result"
    }
   ],
   "source": [
    "sorted(adj_rsquared_results, reverse= True)\n"
   ]
  },
  {
   "cell_type": "code",
   "execution_count": 329,
   "id": "c0b6c782",
   "metadata": {},
   "outputs": [
    {
     "data": {
      "text/plain": [
       "(0.0015410537083356823, ['Stability'])"
      ]
     },
     "execution_count": 329,
     "metadata": {},
     "output_type": "execute_result"
    }
   ],
   "source": [
    "#the best model is with variable Democracy\n",
    "max(adj_rsquared_results)"
   ]
  },
  {
   "cell_type": "code",
   "execution_count": 330,
   "id": "c5cdf250",
   "metadata": {},
   "outputs": [
    {
     "data": {
      "text/plain": [
       "['Stability']"
      ]
     },
     "execution_count": 330,
     "metadata": {},
     "output_type": "execute_result"
    }
   ],
   "source": [
    "selected_vars = max(adj_rsquared_results)[1]\n",
    "selected_vars"
   ]
  },
  {
   "cell_type": "code",
   "execution_count": 331,
   "id": "c4222515",
   "metadata": {},
   "outputs": [
    {
     "name": "stdout",
     "output_type": "stream",
     "text": [
      "                            OLS Regression Results                            \n",
      "==============================================================================\n",
      "Dep. Variable:         GDP per capita   R-squared:                       0.009\n",
      "Model:                            OLS   Adj. R-squared:                  0.002\n",
      "Method:                 Least Squares   F-statistic:                     1.196\n",
      "Date:                Mon, 02 Jan 2023   Prob (F-statistic):              0.276\n",
      "Time:                        17:34:28   Log-Likelihood:                -305.83\n",
      "No. Observations:                 128   AIC:                             615.7\n",
      "Df Residuals:                     126   BIC:                             621.4\n",
      "Df Model:                           1                                         \n",
      "Covariance Type:            nonrobust                                         \n",
      "==============================================================================\n",
      "                 coef    std err          t      P>|t|      [0.025      0.975]\n",
      "------------------------------------------------------------------------------\n",
      "const          1.2817      0.235      5.450      0.000       0.816       1.747\n",
      "Stability      0.2741      0.251      1.094      0.276      -0.222       0.770\n",
      "==============================================================================\n",
      "Omnibus:                       17.163   Durbin-Watson:                   2.067\n",
      "Prob(Omnibus):                  0.000   Jarque-Bera (JB):               23.374\n",
      "Skew:                          -0.723   Prob(JB):                     8.40e-06\n",
      "Kurtosis:                       4.515   Cond. No.                         1.07\n",
      "==============================================================================\n",
      "\n",
      "Notes:\n",
      "[1] Standard Errors assume that the covariance matrix of the errors is correctly specified.\n"
     ]
    }
   ],
   "source": [
    "# define the variables\n",
    "X = df_3[selected_vars]\n",
    "y = df_3[target]\n",
    "\n",
    "# add constant to predictor variables (i.e. the intercept)\n",
    "X = sm.add_constant(X)\n",
    "\n",
    "# fit linear regression model\n",
    "model_sm = sm.OLS(y, X).fit()\n",
    "\n",
    "# view model summary\n",
    "print(model_sm.summary())"
   ]
  },
  {
   "cell_type": "markdown",
   "id": "848433d4",
   "metadata": {},
   "source": [
    "Variable Stability is not significant, Adj. R-squared is 0.002."
   ]
  },
  {
   "cell_type": "code",
   "execution_count": 332,
   "id": "20d3ede2",
   "metadata": {},
   "outputs": [
    {
     "data": {
      "image/png": "[encoded data removed]",
      "text/plain": [
       "<Figure size 432x288 with 1 Axes>"
      ]
     },
     "metadata": {
      "needs_background": "light"
     },
     "output_type": "display_data"
    },
    {
     "data": {
      "image/png": "[encoded data removed]",
      "text/plain": [
       "<Figure size 432x288 with 1 Axes>"
      ]
     },
     "metadata": {
      "needs_background": "light"
     },
     "output_type": "display_data"
    },
    {
     "name": "stdout",
     "output_type": "stream",
     "text": [
      "95.31% of the points fall within (-2,2).\n"
     ]
    }
   ],
   "source": [
    "plt.hist(model_sm.resid_pearson)\n",
    "plt.xlabel('Standardized residuals')\n",
    "plt.ylabel('Frequency')\n",
    "plt.show()\n",
    "\n",
    "plt.plot(model_sm.fittedvalues, model_sm.resid_pearson, 'o', color='b')\n",
    "plt.axhline(-2, color='b', alpha=0.5)\n",
    "plt.axhline(2, color='b', alpha=0.5)\n",
    "plt.axhline(0, linestyle='--', color='b', alpha=0.5)\n",
    "plt.xlabel('Fitted values')\n",
    "plt.ylabel('Standard residuals')\n",
    "plt.show()\n",
    "\n",
    "print('%.2f%% of the points fall within (-2,2).'%(100*sum([1 for i in model_sm.resid_pearson if -2<i<2])/len(model_sm.resid_pearson)))"
   ]
  },
  {
   "cell_type": "markdown",
   "id": "87206c3c",
   "metadata": {},
   "source": [
    "Residuals are distributed bell-shaped, and they are looked homoscedastic."
   ]
  },
  {
   "cell_type": "markdown",
   "id": "2a294ae5",
   "metadata": {},
   "source": [
    "Model is bad, Stabiluty is not significant. Null hypothesis cannot be rejected"
   ]
  },
  {
   "cell_type": "markdown",
   "id": "25aeb8f2",
   "metadata": {},
   "source": [
    "Conclusions for the 2019 year, we have not found any confirmation about the correlation between regime and growth of GDP. Every one of the three hypotheses cannot be rejected. It means in 2019 autocracy and democracy had equal chances to have small or big economic growth."
   ]
  },
  {
   "cell_type": "markdown",
   "id": "879d47e2",
   "metadata": {},
   "source": [
    "# Conclusions\n",
    "for different year we can make different conclusions: for 2012 all three hypotheses can be rejected, while for 2019 none. For now, the conclusions are possible only for the years, without repititive results. This research should be repeated with more temporal data.  "
   ]
  },
  {
   "cell_type": "markdown",
   "id": "2581dd86",
   "metadata": {},
   "source": [
    "Limitations\n",
    "1. Variable political stability is based on expert evaluation, not factual data\n",
    "2. Autocracies' national banks tend to overestimate the GDP, so the data can be biased \n",
    "3. Only three years were analysed.Data about GDP and other variables were limited, so it is impossible to check hypotheses for more years. \n"
   ]
  },
  {
   "cell_type": "code",
   "execution_count": null,
   "id": "545223fa",
   "metadata": {},
   "outputs": [],
   "source": []
  }
 ],
 "metadata": {
  "kernelspec": {
   "display_name": "Python 3 (ipykernel)",
   "language": "python",
   "name": "python3"
  },
  "language_info": {
   "codemirror_mode": {
    "name": "ipython",
    "version": 3
   },
   "file_extension": ".py",
   "mimetype": "text/x-python",
   "name": "python",
   "nbconvert_exporter": "python",
   "pygments_lexer": "ipython3",
   "version": "3.9.12"
  }
 },
 "nbformat": 4,
 "nbformat_minor": 5
}
